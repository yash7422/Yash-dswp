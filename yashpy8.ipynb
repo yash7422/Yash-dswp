{
 "cells": [
  {
   "cell_type": "markdown",
   "id": "827a2186-7705-4dd0-b314-ef375a876898",
   "metadata": {
    "id": "827a2186-7705-4dd0-b314-ef375a876898"
   },
   "source": [
    "# Set\n",
    "\n"
   ]
  },
  {
   "cell_type": "code",
   "execution_count": null,
   "id": "bd0224df-a573-4d7f-89f2-f9ae37dd905f",
   "metadata": {
    "id": "bd0224df-a573-4d7f-89f2-f9ae37dd905f",
    "outputId": "57cc235b-5f18-4f81-dd54-6cfdee60c78a"
   },
   "outputs": [
    {
     "name": "stdout",
     "output_type": "stream",
     "text": [
      "{'banana', 'cherry', 'apple'}\n"
     ]
    }
   ],
   "source": [
    "thisset = {\"apple\", \"banana\", \"cherry\"}\n",
    "print(thisset)"
   ]
  },
  {
   "cell_type": "markdown",
   "id": "3ba604fc-0b63-41ec-8a23-3bdb2bbcf8c9",
   "metadata": {
    "id": "3ba604fc-0b63-41ec-8a23-3bdb2bbcf8c9"
   },
   "source": [
    "# Set Items\n"
   ]
  },
  {
   "cell_type": "code",
   "execution_count": null,
   "id": "d27c4175-6a88-4b76-ba8c-e64896e15a2d",
   "metadata": {
    "id": "d27c4175-6a88-4b76-ba8c-e64896e15a2d",
    "outputId": "55906f0f-282f-47a7-8db6-2abac549e62c"
   },
   "outputs": [
    {
     "name": "stdout",
     "output_type": "stream",
     "text": [
      "{'banana', 'cherry', 'apple'}\n"
     ]
    }
   ],
   "source": [
    " Duplicate values will be ignored:\n",
    "\n",
    "thisset = {\"apple\", \"banana\", \"cherry\", \"apple\"}\n",
    "\n",
    "print(thisset)\n"
   ]
  },
  {
   "cell_type": "code",
   "execution_count": null,
   "id": "9b7bf092-dd9c-4678-9b32-83e9930145a8",
   "metadata": {
    "id": "9b7bf092-dd9c-4678-9b32-83e9930145a8",
    "outputId": "cd761a87-0f78-4616-938f-a3293c2ea9d2"
   },
   "outputs": [
    {
     "name": "stdout",
     "output_type": "stream",
     "text": [
      "{True, 2, 'apple', 'cherry', 'banana'}\n"
     ]
    }
   ],
   "source": [
    " True and 1 is considered the same value:\n",
    "\n",
    "thisset = {\"apple\", \"banana\", \"cherry\", True, 1, 2}\n",
    "\n",
    "print(thisset)"
   ]
  },
  {
   "cell_type": "code",
   "execution_count": null,
   "id": "ea05e4ee-d545-4a80-97d0-3c8b6e465585",
   "metadata": {
    "id": "ea05e4ee-d545-4a80-97d0-3c8b6e465585",
    "outputId": "083d6814-2527-4cbd-f7be-67603c2dbb81"
   },
   "outputs": [
    {
     "name": "stdout",
     "output_type": "stream",
     "text": [
      "{False, True, 'apple', 'cherry', 'banana'}\n"
     ]
    }
   ],
   "source": [
    " False and 0 is considered the same value:\n",
    "\n",
    "thisset = {\"apple\", \"banana\", \"cherry\", False, True, 0}\n",
    "\n",
    "print(thisset)"
   ]
  },
  {
   "cell_type": "code",
   "execution_count": null,
   "id": "eb6ecff3-fb03-4780-8589-b495faed183a",
   "metadata": {
    "id": "eb6ecff3-fb03-4780-8589-b495faed183a",
    "outputId": "2039b773-9afa-4e74-b3ee-a2c00af8e084"
   },
   "outputs": [
    {
     "name": "stdout",
     "output_type": "stream",
     "text": [
      "3\n"
     ]
    }
   ],
   "source": [
    " Get the number of items in a set:\n",
    "\n",
    "thisset = {\"apple\", \"banana\", \"cherry\"}\n",
    "\n",
    "print(len(thisset))"
   ]
  },
  {
   "cell_type": "markdown",
   "id": "758b83f7-93a0-41fd-9c82-1687cff6c40e",
   "metadata": {
    "id": "758b83f7-93a0-41fd-9c82-1687cff6c40e"
   },
   "source": [
    "# Set Items - Data Types\n",
    "\n"
   ]
  },
  {
   "cell_type": "code",
   "execution_count": null,
   "id": "04be04fb-7209-4342-87dd-8ccda6316de7",
   "metadata": {
    "id": "04be04fb-7209-4342-87dd-8ccda6316de7",
    "outputId": "c5b68c54-8d48-4b52-dfc8-f81adb0387ca"
   },
   "outputs": [
    {
     "name": "stdout",
     "output_type": "stream",
     "text": [
      "{True, 34, 'male', 40, 'abc'}\n"
     ]
    }
   ],
   "source": [
    " Set items can be of any data type:\n",
    " String, int and boolean data types:\n",
    "\n",
    "set1 = {\"apple\", \"banana\", \"cherry\"}\n",
    "set2 = {1, 5, 7, 9, 3}\n",
    "set3 = {True, False, False}\n",
    "set4 = {\"abc\", 34, True, 40, \"male\"}\n",
    "print(set4)"
   ]
  },
  {
   "cell_type": "code",
   "execution_count": null,
   "id": "11ca87f0-aec7-435d-83f6-5687c5a4783d",
   "metadata": {
    "id": "11ca87f0-aec7-435d-83f6-5687c5a4783d",
    "outputId": "623551c8-5c9e-4903-df81-ee5dc4f96982"
   },
   "outputs": [
    {
     "name": "stdout",
     "output_type": "stream",
     "text": [
      "<class 'set'>\n"
     ]
    }
   ],
   "source": [
    "print(type(set4))"
   ]
  },
  {
   "cell_type": "markdown",
   "id": "d5e61d3f-11ca-48b6-b0b8-130df60a199c",
   "metadata": {
    "id": "d5e61d3f-11ca-48b6-b0b8-130df60a199c"
   },
   "source": [
    "# The set() Constructor\n"
   ]
  },
  {
   "cell_type": "code",
   "execution_count": null,
   "id": "0b75e592-8851-4780-a486-ac3c7e03c215",
   "metadata": {
    "id": "0b75e592-8851-4780-a486-ac3c7e03c215",
    "outputId": "1683b1fd-dd90-40bd-82fe-1b6504282757"
   },
   "outputs": [
    {
     "name": "stdout",
     "output_type": "stream",
     "text": [
      "{'banana', 'cherry', 'apple'}\n"
     ]
    }
   ],
   "source": [
    "thisset = set((\"apple\", \"banana\", \"cherry\"))  note the double round-brackets\n",
    "print(thisset)"
   ]
  },
  {
   "cell_type": "markdown",
   "id": "366f4eda-574b-40d1-a6a6-6bceb70cab06",
   "metadata": {
    "id": "366f4eda-574b-40d1-a6a6-6bceb70cab06"
   },
   "source": [
    "# Python Collections (Arrays)\n"
   ]
  },
  {
   "cell_type": "markdown",
   "id": "df1a2634-abb8-4cb5-a9ae-ae9d9bd4a992",
   "metadata": {
    "id": "df1a2634-abb8-4cb5-a9ae-ae9d9bd4a992"
   },
   "source": [
    "# Access Items\n",
    "\n"
   ]
  },
  {
   "cell_type": "code",
   "execution_count": null,
   "id": "3d3172c0-f21c-41a4-82f8-7819f739e74b",
   "metadata": {
    "id": "3d3172c0-f21c-41a4-82f8-7819f739e74b",
    "outputId": "9b86af12-c1f9-4ae3-d4f2-90adc66002d6"
   },
   "outputs": [
    {
     "name": "stdout",
     "output_type": "stream",
     "text": [
      "banana\n",
      "cherry\n",
      "apple\n"
     ]
    }
   ],
   "source": [
    " Loop through the set, and print the values:\n",
    "\n",
    "thisset = {\"apple\", \"banana\", \"cherry\"}\n",
    "\n",
    "for x in thisset:\n",
    "  print(x)\n"
   ]
  },
  {
   "cell_type": "code",
   "execution_count": null,
   "id": "c6ddbf2c-ee81-47e5-95ac-54cd92508843",
   "metadata": {
    "id": "c6ddbf2c-ee81-47e5-95ac-54cd92508843",
    "outputId": "6e9e7957-db3c-41f2-d2a2-8e3c37f38ea8"
   },
   "outputs": [
    {
     "name": "stdout",
     "output_type": "stream",
     "text": [
      "True\n"
     ]
    }
   ],
   "source": [
    " Check if \"banana\" is present in the set:\n",
    "\n",
    "thisset = {\"apple\", \"banana\", \"cherry\"}\n",
    "\n",
    "print(\"banana\" in thisset)"
   ]
  },
  {
   "cell_type": "code",
   "execution_count": null,
   "id": "d64535a0-72dd-4b35-a3f8-d2aeac899ef8",
   "metadata": {
    "id": "d64535a0-72dd-4b35-a3f8-d2aeac899ef8",
    "outputId": "62b15ba5-95b1-45e9-adf3-d4e869df19b4"
   },
   "outputs": [
    {
     "name": "stdout",
     "output_type": "stream",
     "text": [
      "False\n"
     ]
    }
   ],
   "source": [
    " Check if \"banana\" is NOT present in the set:\n",
    "\n",
    "thisset = {\"apple\", \"banana\", \"cherry\"}\n",
    "\n",
    "print(\"banana\" not in thisset)"
   ]
  },
  {
   "cell_type": "markdown",
   "id": "3a87ddc5-9bbe-4e92-aea3-e5c93fb7b876",
   "metadata": {
    "id": "3a87ddc5-9bbe-4e92-aea3-e5c93fb7b876"
   },
   "source": [
    "# Add Items\n"
   ]
  },
  {
   "cell_type": "code",
   "execution_count": null,
   "id": "0f989fff-54de-421f-b7b2-e1e0886cd048",
   "metadata": {
    "id": "0f989fff-54de-421f-b7b2-e1e0886cd048",
    "outputId": "574aa1fe-9bcd-4972-d54e-0d45d950bf6e"
   },
   "outputs": [
    {
     "name": "stdout",
     "output_type": "stream",
     "text": [
      "{'orange', 'banana', 'cherry', 'apple'}\n"
     ]
    }
   ],
   "source": [
    " Add an item to a set, using the add() method:\n",
    "\n",
    "thisset = {\"apple\", \"banana\", \"cherry\"}\n",
    "\n",
    "thisset.add(\"orange\")\n",
    "\n",
    "print(thisset)"
   ]
  },
  {
   "cell_type": "code",
   "execution_count": null,
   "id": "7f3ff224-ff7a-482c-b5ae-79ebf2d8bd06",
   "metadata": {
    "id": "7f3ff224-ff7a-482c-b5ae-79ebf2d8bd06",
    "outputId": "7fd21456-7d80-4297-f2fd-e4c7fb8f4b49"
   },
   "outputs": [
    {
     "name": "stdout",
     "output_type": "stream",
     "text": [
      "{'papaya', 'cherry', 'apple', 'mango', 'banana', 'pineapple'}\n"
     ]
    }
   ],
   "source": [
    " To add items from another set into the current set, use the update() method.\n",
    "\n",
    " Add elements from tropical into thisset:\n",
    "\n",
    "thisset = {\"apple\", \"banana\", \"cherry\"}\n",
    "tropical = {\"pineapple\", \"mango\", \"papaya\"}\n",
    "\n",
    "thisset.update(tropical)\n",
    "\n",
    "print(thisset)"
   ]
  },
  {
   "cell_type": "code",
   "execution_count": null,
   "id": "a7070b28-a6fd-4f27-bfef-13c7b6587788",
   "metadata": {
    "id": "a7070b28-a6fd-4f27-bfef-13c7b6587788",
    "outputId": "4cf41391-dd4a-4894-c933-5c749777a9da"
   },
   "outputs": [
    {
     "name": "stdout",
     "output_type": "stream",
     "text": [
      "{'kiwi', 'cherry', 'apple', 'orange', 'banana'}\n"
     ]
    }
   ],
   "source": [
    " Add Any Iterable\n",
    " The object in the update() method does not have to be a set, it can be any iterable object (tuples, lists, dictionaries etc.).\n",
    "\n",
    "\n",
    " Add elements of a list to at set:\n",
    "\n",
    "thisset = {\"apple\", \"banana\", \"cherry\"}\n",
    "mylist = [\"kiwi\", \"orange\"]\n",
    "\n",
    "thisset.update(mylist)\n",
    "\n",
    "print(thisset)"
   ]
  },
  {
   "cell_type": "code",
   "execution_count": null,
   "id": "e4c92c00-c899-45c7-8dfd-25824d3e9423",
   "metadata": {
    "id": "e4c92c00-c899-45c7-8dfd-25824d3e9423",
    "outputId": "ef4dbc7b-0035-43a6-d5c0-9191f190e4ac"
   },
   "outputs": [
    {
     "name": "stdout",
     "output_type": "stream",
     "text": [
      "{'cherry', 'apple'}\n"
     ]
    }
   ],
   "source": [
    " Remove Item\n",
    " To remove an item in a set, use the remove(), or the discard() method.\n",
    "\n",
    " Remove \"banana\" by using the remove() method:\n",
    " If the item to remove does not exist, remove() will raise an error.\n",
    "\n",
    "thisset = {\"apple\", \"banana\", \"cherry\"}\n",
    "\n",
    "thisset.remove(\"banana\")\n",
    "\n",
    "print(thisset)"
   ]
  },
  {
   "cell_type": "code",
   "execution_count": null,
   "id": "6562c1c0-203e-4a48-aaac-21d7294f5817",
   "metadata": {
    "id": "6562c1c0-203e-4a48-aaac-21d7294f5817",
    "outputId": "69322c67-9c79-44e9-8be4-411759f43585"
   },
   "outputs": [
    {
     "name": "stdout",
     "output_type": "stream",
     "text": [
      "{'cherry', 'apple'}\n"
     ]
    }
   ],
   "source": [
    " Remove \"banana\" by using the discard() method:\n",
    "\n",
    "thisset = {\"apple\", \"banana\", \"cherry\"}\n",
    "\n",
    "thisset.discard(\"banana\")\n",
    "\n",
    "print(thisset)\n",
    " Note: If the item to remove does not exist, discard() will NOT raise an error."
   ]
  },
  {
   "cell_type": "code",
   "execution_count": null,
   "id": "18e99b56-d4b4-4ec3-b080-ed413770e00b",
   "metadata": {
    "id": "18e99b56-d4b4-4ec3-b080-ed413770e00b",
    "outputId": "94a31861-c04a-4d9f-b75c-65c42e1a1472"
   },
   "outputs": [
    {
     "name": "stdout",
     "output_type": "stream",
     "text": [
      "banana\n",
      "{'cherry', 'apple'}\n"
     ]
    }
   ],
   "source": [
    " You can also use the pop() method to remove an item, but this method will remove a random item, so you cannot be sure what item that gets removed.\n",
    "\n",
    " The return value of the pop() method is the removed item.\n",
    "\n",
    " Remove a random item by using the pop() method:\n",
    "thisset = {\"apple\", \"banana\", \"cherry\"}\n",
    "\n",
    "x = thisset.pop()\n",
    "\n",
    "print(x)\n",
    "\n",
    "print(thisset)\n",
    " Note: Sets are unordered, so when using the pop() method, you do not know which item that gets removed."
   ]
  },
  {
   "cell_type": "code",
   "execution_count": null,
   "id": "50a00720-8900-4002-b60d-c33f8c4fa019",
   "metadata": {
    "id": "50a00720-8900-4002-b60d-c33f8c4fa019",
    "outputId": "8752f86a-0a93-4511-c71d-565462061741"
   },
   "outputs": [
    {
     "name": "stdout",
     "output_type": "stream",
     "text": [
      "set()\n"
     ]
    }
   ],
   "source": [
    " The clear() method empties the set:\n",
    "\n",
    "thisset = {\"apple\", \"banana\", \"cherry\"}\n",
    "\n",
    "thisset.clear()\n",
    "\n",
    "print(thisset)"
   ]
  },
  {
   "cell_type": "markdown",
   "id": "3565c34f-e6ab-4326-8a24-ff52b5993715",
   "metadata": {
    "id": "3565c34f-e6ab-4326-8a24-ff52b5993715"
   },
   "source": [
    "# Python - Loop Sets\n",
    "\n",
    "\n"
   ]
  },
  {
   "cell_type": "code",
   "execution_count": null,
   "id": "26b22391-7d22-4f4f-a439-f820c5641d6e",
   "metadata": {
    "id": "26b22391-7d22-4f4f-a439-f820c5641d6e",
    "outputId": "8cc888e5-e99c-4c10-c1e4-c24961b82507"
   },
   "outputs": [
    {
     "name": "stdout",
     "output_type": "stream",
     "text": [
      "banana\n",
      "cherry\n",
      "apple\n"
     ]
    }
   ],
   "source": [
    "thisset = {\"apple\", \"banana\", \"cherry\"}\n",
    "\n",
    "for x in thisset:\n",
    "  print(x)"
   ]
  },
  {
   "cell_type": "markdown",
   "id": "42457bf3-6f85-4924-bc65-440d9bda4d86",
   "metadata": {
    "id": "42457bf3-6f85-4924-bc65-440d9bda4d86"
   },
   "source": [
    "# Union\n",
    "T"
   ]
  },
  {
   "cell_type": "code",
   "execution_count": null,
   "id": "986c787c-ac18-4311-9175-6ff921026ba6",
   "metadata": {
    "id": "986c787c-ac18-4311-9175-6ff921026ba6",
    "outputId": "9c82a65a-2188-4adc-b0ee-444ef45f5d19"
   },
   "outputs": [
    {
     "name": "stdout",
     "output_type": "stream",
     "text": [
      "{1, 'a', 2, 'b', 3, 'c'}\n"
     ]
    }
   ],
   "source": [
    " Join set1 and set2 into a new set:\n",
    "\n",
    "set1 = {\"a\", \"b\", \"c\"}\n",
    "set2 = {1, 2, 3}\n",
    "\n",
    "set3 = set1.union(set2)\n",
    "print(set3)"
   ]
  },
  {
   "cell_type": "code",
   "execution_count": null,
   "id": "8de110ee-2e21-4ace-9987-e25b8b390902",
   "metadata": {
    "id": "8de110ee-2e21-4ace-9987-e25b8b390902",
    "outputId": "8c5819f2-2ceb-4084-99df-2d3d1a01d51a"
   },
   "outputs": [
    {
     "name": "stdout",
     "output_type": "stream",
     "text": [
      "{1, 'a', 2, 'b', 3, 'c'}\n"
     ]
    }
   ],
   "source": [
    " You can use the | operator instead of the union() method, and you will get the same result.\n",
    " Use | to join two sets:\n",
    "set1 = {\"a\", \"b\", \"c\"}\n",
    "set2 = {1, 2, 3}\n",
    "\n",
    "set3 = set1 | set2\n",
    "print(set3)"
   ]
  },
  {
   "cell_type": "markdown",
   "id": "9cd75510-0610-433a-89f0-b5f0f5942d0b",
   "metadata": {
    "id": "9cd75510-0610-433a-89f0-b5f0f5942d0b"
   },
   "source": [
    "## Join Multiple Sets\n",
    "\n",
    "\n"
   ]
  },
  {
   "cell_type": "code",
   "execution_count": null,
   "id": "c6402d96-4708-40d8-9be5-0244fdb9267e",
   "metadata": {
    "id": "c6402d96-4708-40d8-9be5-0244fdb9267e",
    "outputId": "c9c34dc4-9044-496f-ed4b-9ed8e532b50f"
   },
   "outputs": [
    {
     "name": "stdout",
     "output_type": "stream",
     "text": [
      "{1, 'a', 2, 'b', 3, 'cherry', 'c', 'John', 'apple', 'bananas', 'Elena'}\n"
     ]
    }
   ],
   "source": [
    " Join multiple sets with the union() method:\n",
    "set1 = {\"a\", \"b\", \"c\"}\n",
    "set2 = {1, 2, 3}\n",
    "set3 = {\"John\", \"Elena\"}\n",
    "set4 = {\"apple\", \"bananas\", \"cherry\"}\n",
    "\n",
    "myset = set1.union(set2, set3, set4)\n",
    "print(myset)"
   ]
  },
  {
   "cell_type": "markdown",
   "id": "8a36b90f-b1a6-4bb9-bdfd-602d42023317",
   "metadata": {
    "id": "8a36b90f-b1a6-4bb9-bdfd-602d42023317"
   },
   "source": [
    "## Join a Set and a Tuple\n"
   ]
  },
  {
   "cell_type": "code",
   "execution_count": null,
   "id": "b073a003-7a6f-4fcc-ac3f-39f26c54455c",
   "metadata": {
    "id": "b073a003-7a6f-4fcc-ac3f-39f26c54455c",
    "outputId": "90d053c2-14f4-4d21-e27f-86e8c8d09a38"
   },
   "outputs": [
    {
     "name": "stdout",
     "output_type": "stream",
     "text": [
      "{1, 'a', 2, 'b', 3, 'c'}\n"
     ]
    }
   ],
   "source": [
    "x = {\"a\", \"b\", \"c\"}\n",
    "y = (1, 2, 3)\n",
    "\n",
    "z = x.union(y)\n",
    "print(z)"
   ]
  },
  {
   "cell_type": "markdown",
   "id": "6a34fb58-9d94-418f-9c97-fbee3bbea508",
   "metadata": {
    "id": "6a34fb58-9d94-418f-9c97-fbee3bbea508"
   },
   "source": [
    "## Update\n"
   ]
  },
  {
   "cell_type": "code",
   "execution_count": null,
   "id": "6ef95a75-f2e7-4b9c-a5e5-a8ea2fc0c746",
   "metadata": {
    "id": "6ef95a75-f2e7-4b9c-a5e5-a8ea2fc0c746",
    "outputId": "e9e2163f-115a-41e4-a23a-02a693d324fc"
   },
   "outputs": [
    {
     "name": "stdout",
     "output_type": "stream",
     "text": [
      "{1, 'a', 2, 'b', 3, 'c'}\n"
     ]
    }
   ],
   "source": [
    " The update() method inserts the items in set2 into set1:\n",
    "\n",
    "set1 = {\"a\", \"b\" , \"c\"}\n",
    "set2 = {1, 2, 3}\n",
    "\n",
    "set1.update(set2)\n",
    "print(set1)"
   ]
  },
  {
   "cell_type": "markdown",
   "id": "b5bbfdf6-d785-4f09-bde0-35ea29e94d12",
   "metadata": {
    "id": "b5bbfdf6-d785-4f09-bde0-35ea29e94d12"
   },
   "source": [
    "# Intersection\n",
    "\n",
    "\n"
   ]
  },
  {
   "cell_type": "code",
   "execution_count": null,
   "id": "9edf305d-bb5a-4903-872c-4ee1039a6b55",
   "metadata": {
    "id": "9edf305d-bb5a-4903-872c-4ee1039a6b55",
    "outputId": "91806786-42dc-4163-d4bf-29d93396551b"
   },
   "outputs": [
    {
     "name": "stdout",
     "output_type": "stream",
     "text": [
      "{'apple'}\n"
     ]
    }
   ],
   "source": [
    "set1 = {\"apple\", \"banana\", \"cherry\"}\n",
    "set2 = {\"google\", \"microsoft\", \"apple\"}\n",
    "\n",
    "set3 = set1.intersection(set2)\n",
    "print(set3)"
   ]
  },
  {
   "cell_type": "code",
   "execution_count": null,
   "id": "12d152a5-f10e-4526-9381-56092d4ebc2d",
   "metadata": {
    "id": "12d152a5-f10e-4526-9381-56092d4ebc2d",
    "outputId": "0ced6497-004d-414a-aa13-c565aa31c543"
   },
   "outputs": [
    {
     "name": "stdout",
     "output_type": "stream",
     "text": [
      "{'apple'}\n"
     ]
    }
   ],
   "source": [
    " You can use the & operator instead of the intersection() method, and you will get the same result.\n",
    "\n",
    " Use & to join two sets:\n",
    "\n",
    "set1 = {\"apple\", \"banana\", \"cherry\"}\n",
    "set2 = {\"google\", \"microsoft\", \"apple\"}\n",
    "\n",
    "set3 = set1 & set2\n",
    "print(set3)"
   ]
  },
  {
   "cell_type": "code",
   "execution_count": null,
   "id": "5467990a-a234-4ecd-86c1-21b71abde4f8",
   "metadata": {
    "id": "5467990a-a234-4ecd-86c1-21b71abde4f8",
    "outputId": "84f602a1-7c52-4d82-ff83-6cec44a0481b"
   },
   "outputs": [
    {
     "name": "stdout",
     "output_type": "stream",
     "text": [
      "{'apple'}\n"
     ]
    }
   ],
   "source": [
    "set1 = {\"apple\", \"banana\", \"cherry\"}\n",
    "set2 = {\"google\", \"microsoft\", \"apple\"}\n",
    "\n",
    "set1.intersection_update(set2)\n",
    "\n",
    "print(set1)"
   ]
  },
  {
   "cell_type": "code",
   "execution_count": null,
   "id": "a43a00d9-689a-445a-ad05-390d761a72f7",
   "metadata": {
    "id": "a43a00d9-689a-445a-ad05-390d761a72f7",
    "outputId": "cba23561-bf7d-4ab8-9fd1-e30cf494237e"
   },
   "outputs": [
    {
     "name": "stdout",
     "output_type": "stream",
     "text": [
      "{False, 1, 'apple'}\n"
     ]
    }
   ],
   "source": [
    " The values True and 1 are considered the same value. The same goes for False and 0.\n",
    "\n",
    " Join sets that contains the values True, False, 1, and 0, and see what is considered as duplicates:\n",
    "\n",
    "set1 = {\"apple\", 1,  \"banana\", 0, \"cherry\"}\n",
    "set2 = {False, \"google\", 1, \"apple\", 2, True}\n",
    "\n",
    "set3 = set1.intersection(set2)\n",
    "\n",
    "print(set3)"
   ]
  },
  {
   "cell_type": "markdown",
   "id": "097b9ed0-4ecf-4354-a2be-4ac3838feba8",
   "metadata": {
    "id": "097b9ed0-4ecf-4354-a2be-4ac3838feba8"
   },
   "source": [
    "# Difference\n",
    "\n"
   ]
  },
  {
   "cell_type": "code",
   "execution_count": null,
   "id": "a33e7b41-f2dd-4156-a136-33436ee910c5",
   "metadata": {
    "id": "a33e7b41-f2dd-4156-a136-33436ee910c5",
    "outputId": "45733a28-3dc3-4379-c21a-cc00ffa77b04"
   },
   "outputs": [
    {
     "name": "stdout",
     "output_type": "stream",
     "text": [
      "{'banana', 'cherry'}\n"
     ]
    }
   ],
   "source": [
    "set1 = {\"apple\", \"banana\", \"cherry\"}\n",
    "set2 = {\"google\", \"microsoft\", \"apple\"}\n",
    "\n",
    "set3 = set1.difference(set2)\n",
    "\n",
    "print(set3)"
   ]
  },
  {
   "cell_type": "code",
   "execution_count": null,
   "id": "f9d5a5cd-e65d-45e2-a98c-3d42e0814582",
   "metadata": {
    "id": "f9d5a5cd-e65d-45e2-a98c-3d42e0814582",
    "outputId": "74717ac3-4396-497d-8482-49a5f21037c9"
   },
   "outputs": [
    {
     "name": "stdout",
     "output_type": "stream",
     "text": [
      "{'banana', 'cherry'}\n"
     ]
    }
   ],
   "source": [
    " You can use the - operator instead of the difference() method, and you will get the same result.\n",
    "set1 = {\"apple\", \"banana\", \"cherry\"}\n",
    "set2 = {\"google\", \"microsoft\", \"apple\"}\n",
    "\n",
    "set3 = set1 - set2\n",
    "print(set3)"
   ]
  },
  {
   "cell_type": "code",
   "execution_count": null,
   "id": "51c6b58f-5321-456a-9acc-ac1f6c740e77",
   "metadata": {
    "id": "51c6b58f-5321-456a-9acc-ac1f6c740e77",
    "outputId": "e2f20e5c-b4fe-4831-c040-395b1c7928ff"
   },
   "outputs": [
    {
     "name": "stdout",
     "output_type": "stream",
     "text": [
      "{'banana', 'cherry'}\n"
     ]
    }
   ],
   "source": [
    " Use the difference_update() method to keep the items that are not present in both sets:\n",
    "\n",
    "set1 = {\"apple\", \"banana\", \"cherry\"}\n",
    "set2 = {\"google\", \"microsoft\", \"apple\"}\n",
    "\n",
    "set1.difference_update(set2)\n",
    "\n",
    "print(set1)"
   ]
  },
  {
   "cell_type": "markdown",
   "id": "2862869a-3722-448c-840c-a26eda542160",
   "metadata": {
    "id": "2862869a-3722-448c-840c-a26eda542160"
   },
   "source": [
    "# Symmetric Differences\n",
    "T\n",
    "\n"
   ]
  },
  {
   "cell_type": "code",
   "execution_count": null,
   "id": "22c21169-be11-43ed-b771-2e842e936b83",
   "metadata": {
    "id": "22c21169-be11-43ed-b771-2e842e936b83",
    "outputId": "dbb92540-74af-42f3-9e00-4cc5d1a1ad01"
   },
   "outputs": [
    {
     "name": "stdout",
     "output_type": "stream",
     "text": [
      "{'microsoft', 'cherry', 'banana', 'google'}\n"
     ]
    }
   ],
   "source": [
    " Keep the items that are not present in both sets:\n",
    "\n",
    "set1 = {\"apple\", \"banana\", \"cherry\"}\n",
    "set2 = {\"google\", \"microsoft\", \"apple\"}\n",
    "\n",
    "set3 = set1.symmetric_difference(set2)\n",
    "\n",
    "print(set3)"
   ]
  },
  {
   "cell_type": "code",
   "execution_count": null,
   "id": "ad94fba4-5b17-47b5-8d82-5f74cdecc76d",
   "metadata": {
    "id": "ad94fba4-5b17-47b5-8d82-5f74cdecc76d",
    "outputId": "dd341d8d-12ac-4abe-a293-744638c1fab1"
   },
   "outputs": [
    {
     "name": "stdout",
     "output_type": "stream",
     "text": [
      "{'microsoft', 'cherry', 'banana', 'google'}\n"
     ]
    }
   ],
   "source": [
    " You can use the ^ operator instead of the symmetric_difference() method, and you will get the same result.\n",
    "set1 = {\"apple\", \"banana\", \"cherry\"}\n",
    "set2 = {\"google\", \"microsoft\", \"apple\"}\n",
    "\n",
    "set3 = set1 ^ set2\n",
    "print(set3)\n",
    " Note: The ^ operator only allows you to join sets with sets, and not with other data types like you can with the symmetric_difference() method.\n",
    "\n"
   ]
  },
  {
   "cell_type": "code",
   "execution_count": null,
   "id": "cd653ae0-ef2d-4af7-bf4f-9459a5152450",
   "metadata": {
    "id": "cd653ae0-ef2d-4af7-bf4f-9459a5152450",
    "outputId": "ac19b336-8a94-42ea-8abf-e4fafa312bc6"
   },
   "outputs": [
    {
     "name": "stdout",
     "output_type": "stream",
     "text": [
      "{'microsoft', 'cherry', 'banana', 'google'}\n"
     ]
    }
   ],
   "source": [
    "The symmetric_difference_update() method will also keep all but the duplicates, but it will change the original set instead of returning a new set.\n",
    "\n",
    " Use the symmetric_difference_update() method to keep the items that are not present in both sets:\n",
    "\n",
    "set1 = {\"apple\", \"banana\", \"cherry\"}\n",
    "set2 = {\"google\", \"microsoft\", \"apple\"}\n",
    "\n",
    "set1.symmetric_difference_update(set2)\n",
    "\n",
    "print(set1)"
   ]
  }
 ],
 "metadata": {
  "colab": {
   "provenance": []
  },
  "kernelspec": {
   "display_name": "Python 3 (ipykernel)",
   "language": "python",
   "name": "python3"
  },
  "language_info": {
   "codemirror_mode": {
    "name": "ipython",
    "version": 3
   },
   "file_extension": ".py",
   "mimetype": "text/x-python",
   "name": "python",
   "nbconvert_exporter": "python",
   "pygments_lexer": "ipython3",
   "version": "3.12.7"
  }
 },
 "nbformat": 4,
 "nbformat_minor": 5
}
