{
 "cells": [
  {
   "cell_type": "code",
   "execution_count": 1,
   "id": "d0ec2fe7-e459-4e6e-9be2-0c9640bf1cce",
   "metadata": {},
   "outputs": [
    {
     "name": "stdout",
     "output_type": "stream",
     "text": [
      "('apple', 'banana', 'cherry', 'apple', 'cherry')\n"
     ]
    }
   ],
   "source": [
    "thistuple = (\"apple\", \"banana\", \"cherry\", \"apple\", \"cherry\")\n",
    "print(thistuple)"
   ]
  },
  {
   "cell_type": "code",
   "execution_count": null,
   "id": "fec3e672-0c7f-4e1f-92e5-7732885eff88",
   "metadata": {},
   "outputs": [
    {
     "name": "stdout",
     "output_type": "stream",
     "text": [
      "<class 'tuple'>\n"
     ]
    }
   ],
   "source": [
    "tuple1 = (\"apple\", \"banana\", \"cherry\")\n",
    "tuple2 = (1, 5, 7, 9, 3)\n",
    "tuple3 = (True, False, False)\n",
    "\n",
    "A tuple with strings, integers and boolean values:\n",
    "\n",
    "tuple4 = (\"abc\", 34, True, 40, \"male\")\n",
    "print(type(tuple4))"
   ]
  },
  {
   "cell_type": "markdown",
   "id": "ab3c91fc-c13c-4853-b3ad-2d7f3d90c4b9",
   "metadata": {},
   "source": [
    "# Different Ways of Creating a Tuple\n",
    "\n"
   ]
  },
  {
   "cell_type": "code",
   "execution_count": null,
   "id": "403090ad-dc0f-4c52-87ba-36bac36501e2",
   "metadata": {},
   "outputs": [
    {
     "name": "stdout",
     "output_type": "stream",
     "text": [
      "('gfg', 'Python')\n"
     ]
    }
   ],
   "source": [
    "Using Round Brackets\n",
    "\n",
    "\n",
    "\n",
    "tup = (\"gfg\", \"Python\") \n",
    "print(tup)"
   ]
  },
  {
   "cell_type": "code",
   "execution_count": null,
   "id": "6f442e05-d3b9-4ce7-a564-3fffff0fa364",
   "metadata": {},
   "outputs": [
    {
     "name": "stdout",
     "output_type": "stream",
     "text": [
      "(4, 5, 6)\n"
     ]
    }
   ],
   "source": [
    " Using Comma Separated\n",
    "\n",
    "\n",
    "\n",
    " Creating a tuple without brackets\n",
    "tup = 4, 5, 6\n",
    "print(tup) "
   ]
  },
  {
   "cell_type": "code",
   "execution_count": null,
   "id": "461021a3-7527-47fd-aa30-84c724ca9c02",
   "metadata": {},
   "outputs": [
    {
     "name": "stdout",
     "output_type": "stream",
     "text": [
      "(7, 8, 9)\n"
     ]
    }
   ],
   "source": [
    " Using Tuple Constructor\n",
    "\n",
    "\n",
    "\n",
    " Creating a tuple using the tuple() constructor\n",
    "tup = tuple([7, 8, 9])\n",
    "print(tup)  "
   ]
  },
  {
   "cell_type": "code",
   "execution_count": null,
   "id": "587fd3ab-5637-4a8d-b770-9c39affb13bb",
   "metadata": {},
   "outputs": [],
   "source": [
    " Creating an Empty Tuple\n",
    "\n",
    "\n",
    "\n",
    " Creating an empty tuple\n",
    "tup = ()\n",
    "print(tup)  "
   ]
  },
  {
   "cell_type": "code",
   "execution_count": null,
   "id": "e9ade654-7472-44bb-a754-84af4d643564",
   "metadata": {},
   "outputs": [
    {
     "name": "stdout",
     "output_type": "stream",
     "text": [
      "(10,)\n",
      "<class 'tuple'>\n",
      "10\n",
      "<class 'int'>\n"
     ]
    }
   ],
   "source": [
    " Single Element Tuple\n",
    "\n",
    "\n",
    "\n",
    " Creating a single-element tuple\n",
    "tup = (10, )  Comma is important here\n",
    "print(tup)   Output: (10,)\n",
    "print(type(tup))\n",
    "\n",
    " What if we do not use comma\n",
    "tup = (10)  This an integer (not a tuple)\n",
    "print(tup)  \n",
    "print(type(tup))"
   ]
  },
  {
   "cell_type": "markdown",
   "id": "b7398124-26b0-4ce4-8ca4-5016a72b0878",
   "metadata": {},
   "source": [
    "# The tuple() Constructor\n"
   ]
  },
  {
   "cell_type": "code",
   "execution_count": null,
   "id": "db09a059-1915-4ad0-8581-47ba7938f9d6",
   "metadata": {},
   "outputs": [
    {
     "name": "stdout",
     "output_type": "stream",
     "text": [
      "('apple', 'banana', 'cherry')\n"
     ]
    }
   ],
   "source": [
    "thistuple = tuple((\"apple\", \"banana\", \"cherry\"))  note the double round-brackets\n",
    "print(thistuple)"
   ]
  },
  {
   "cell_type": "markdown",
   "id": "6776610f-a886-48af-a551-18d556353093",
   "metadata": {},
   "source": [
    "# Access Tuple Items\n",
    "\n",
    "\n"
   ]
  },
  {
   "cell_type": "code",
   "execution_count": null,
   "id": "e2b6614b-8c74-41b2-b417-7b0e7aa027cf",
   "metadata": {},
   "outputs": [
    {
     "name": "stdout",
     "output_type": "stream",
     "text": [
      "banana\n"
     ]
    }
   ],
   "source": [
    "Print the second item in the tuple:\n",
    "\n",
    "thistuple = (\"apple\", \"banana\", \"cherry\")\n",
    "print(thistuple[1])"
   ]
  },
  {
   "cell_type": "markdown",
   "id": "06609be4-7418-47cb-96f2-f26d08aee100",
   "metadata": {},
   "source": [
    "# Negative Indexing\n"
   ]
  },
  {
   "cell_type": "code",
   "execution_count": null,
   "id": "a361e011-194e-43c9-b21f-f8cbfb77c3e2",
   "metadata": {},
   "outputs": [
    {
     "name": "stdout",
     "output_type": "stream",
     "text": [
      "cherry\n"
     ]
    }
   ],
   "source": [
    " Print the last item of the tuple:\n",
    "\n",
    "thistuple = (\"apple\", \"banana\", \"cherry\")\n",
    "print(thistuple[-1])"
   ]
  },
  {
   "cell_type": "markdown",
   "id": "6c54e34a-f3e8-4629-b7a3-2888498967ab",
   "metadata": {},
   "source": [
    "# Range of Indexes\n",
    "\n"
   ]
  },
  {
   "cell_type": "code",
   "execution_count": null,
   "id": "3ac59cdd-3580-4e96-be36-47ae2f8e8cc4",
   "metadata": {},
   "outputs": [
    {
     "name": "stdout",
     "output_type": "stream",
     "text": [
      "('cherry', 'orange', 'kiwi')\n"
     ]
    }
   ],
   "source": [
    "Return the third, fourth, and fifth item:\n",
    "\n",
    "thistuple = (\"apple\", \"banana\", \"cherry\", \"orange\", \"kiwi\", \"melon\", \"mango\")\n",
    "print(thistuple[2:5])"
   ]
  },
  {
   "cell_type": "code",
   "execution_count": null,
   "id": "b66f03bf-d485-4da0-9b96-6a46a5549432",
   "metadata": {},
   "outputs": [
    {
     "name": "stdout",
     "output_type": "stream",
     "text": [
      "('apple', 'banana', 'cherry', 'orange')\n"
     ]
    }
   ],
   "source": [
    " This example returns the items from the beginning to, but NOT included, \"kiwi\":\n",
    "\n",
    "thistuple = (\"apple\", \"banana\", \"cherry\", \"orange\", \"kiwi\", \"melon\", \"mango\")\n",
    "print(thistuple[:4])"
   ]
  },
  {
   "cell_type": "code",
   "execution_count": null,
   "id": "c79f585c-93a6-461a-a380-1964c5ea7ad3",
   "metadata": {},
   "outputs": [
    {
     "name": "stdout",
     "output_type": "stream",
     "text": [
      "('cherry', 'orange', 'kiwi', 'melon', 'mango')\n"
     ]
    }
   ],
   "source": [
    " This example returns the items from \"cherry\" and to the end:\n",
    "\n",
    "thistuple = (\"apple\", \"banana\", \"cherry\", \"orange\", \"kiwi\", \"melon\", \"mango\")\n",
    "print(thistuple[2:])"
   ]
  },
  {
   "cell_type": "code",
   "execution_count": null,
   "id": "53e07eca-cff6-45e4-bfa1-babee6c6e9a3",
   "metadata": {},
   "outputs": [
    {
     "name": "stdout",
     "output_type": "stream",
     "text": [
      "('orange', 'kiwi', 'melon')\n"
     ]
    }
   ],
   "source": [
    " This example returns the items from index -4 (included) to index -1 (excluded)\n",
    "\n",
    "thistuple = (\"apple\", \"banana\", \"cherry\", \"orange\", \"kiwi\", \"melon\", \"mango\")\n",
    "print(thistuple[-4:-1])"
   ]
  },
  {
   "cell_type": "markdown",
   "id": "3f196633-ebf7-49f5-b49d-00deb58df385",
   "metadata": {},
   "source": [
    "# Check if Item Exists\n"
   ]
  },
  {
   "cell_type": "code",
   "execution_count": null,
   "id": "dd7fbbf6-88d5-4166-9a05-7f206569ec63",
   "metadata": {},
   "outputs": [
    {
     "name": "stdout",
     "output_type": "stream",
     "text": [
      "Yes, 'apple' is in the fruits tuple\n"
     ]
    }
   ],
   "source": [
    " Check if \"apple\" is present in the tuple:\n",
    "\n",
    "thistuple = (\"apple\", \"banana\", \"cherry\")\n",
    "if \"apple\" in thistuple:\n",
    "  print(\"Yes, 'apple' is in the fruits tuple\")"
   ]
  },
  {
   "cell_type": "markdown",
   "id": "99014b75-9b35-4cce-8e6e-e58af929250a",
   "metadata": {},
   "source": [
    "# Python - Update Tuples\n"
   ]
  },
  {
   "cell_type": "code",
   "execution_count": null,
   "id": "ad83f906-dd4e-42a5-bc74-aad01527076d",
   "metadata": {},
   "outputs": [
    {
     "name": "stdout",
     "output_type": "stream",
     "text": [
      "('apple', 'kiwi', 'cherry')\n"
     ]
    }
   ],
   "source": [
    " Convert the tuple into a list to be able to change it:\n",
    "\n",
    "x = (\"apple\", \"banana\", \"cherry\")\n",
    "y = list(x)\n",
    "y[1] = \"kiwi\"\n",
    "x = tuple(y)\n",
    "\n",
    "print(x)"
   ]
  },
  {
   "cell_type": "markdown",
   "id": "282d008d-f5a5-4a72-99a5-a3d7b8281f3a",
   "metadata": {},
   "source": [
    "# Add Items\n",
    "\n"
   ]
  },
  {
   "cell_type": "code",
   "execution_count": null,
   "id": "fea231c3-5eaf-4d7c-9eef-824444d4874d",
   "metadata": {},
   "outputs": [
    {
     "name": "stdout",
     "output_type": "stream",
     "text": [
      "('apple', 'banana', 'cherry', 'orange')\n"
     ]
    }
   ],
   "source": [
    "\n",
    "thistuple = (\"apple\", \"banana\", \"cherry\")\n",
    "y = list(thistuple)\n",
    "y.append(\"orange\")\n",
    "thistuple = tuple(y)\n",
    "print(thistuple)"
   ]
  },
  {
   "cell_type": "code",
   "execution_count": null,
   "id": "3614654b-8425-4f21-9272-e62d5d81270b",
   "metadata": {},
   "outputs": [
    {
     "name": "stdout",
     "output_type": "stream",
     "text": [
      "('apple', 'banana', 'cherry', 'orange')\n"
     ]
    }
   ],
   "source": [
    " \n",
    "thistuple = (\"apple\", \"banana\", \"cherry\")\n",
    "y = (\"orange\",)\n",
    "thistuple += y\n",
    "\n",
    "print(thistuple)\n"
   ]
  },
  {
   "cell_type": "markdown",
   "id": "4b70d27a-bf51-48cc-9616-59f134863bb9",
   "metadata": {},
   "source": [
    "# Remove Items\n",
    "\n",
    "\n",
    "\n"
   ]
  },
  {
   "cell_type": "code",
   "execution_count": null,
   "id": "f1c70e45-578a-4e04-9818-660c7da15cdf",
   "metadata": {},
   "outputs": [
    {
     "name": "stdout",
     "output_type": "stream",
     "text": [
      "('banana', 'cherry')\n"
     ]
    }
   ],
   "source": [
    " Convert the tuple into a list, remove \"apple\", and convert it back into a tuple:\n",
    "\n",
    "thistuple = (\"apple\", \"banana\", \"cherry\")\n",
    "y = list(thistuple)\n",
    "y.remove(\"apple\")\n",
    "thistuple = tuple(y)\n",
    "print(thistuple)"
   ]
  },
  {
   "cell_type": "markdown",
   "id": "6bc47c20-1e25-4558-b79d-181c9e6658f4",
   "metadata": {},
   "source": [
    "# Traversing Items of Python Tuples\n"
   ]
  },
  {
   "cell_type": "code",
   "execution_count": null,
   "id": "2ba33f4a-a688-45bd-9d05-20d9644df515",
   "metadata": {},
   "outputs": [
    {
     "name": "stdout",
     "output_type": "stream",
     "text": [
      "1 2 3 4 5 "
     ]
    }
   ],
   "source": [
    " Define a tuple\n",
    "tup = (1, 2, 3, 4, 5)\n",
    "\n",
    " Traverse through each item in the tuple\n",
    "for x in tup:\n",
    "    print(x, end=\" \")"
   ]
  },
  {
   "cell_type": "markdown",
   "id": "933667b2-f4bc-4fd5-a53c-ed489f623a99",
   "metadata": {},
   "source": [
    "# Concatenation of Python Tuples\n"
   ]
  },
  {
   "cell_type": "code",
   "execution_count": null,
   "id": "2387c60f-b89f-4adf-86ba-a0a28e692abd",
   "metadata": {},
   "outputs": [
    {
     "name": "stdout",
     "output_type": "stream",
     "text": [
      "(0, 1, 2, 3, 'python', 'geek')\n"
     ]
    }
   ],
   "source": [
    " Code for concatenating 2 tuples\n",
    "tup1 = (0, 1, 2, 3)\n",
    "tup2 = ('python', 'geek')\n",
    "\n",
    " Concatenating above two\n",
    "print(tup1 + tup2)"
   ]
  },
  {
   "cell_type": "markdown",
   "id": "3a313d39-6e75-4f40-a96f-1e26486000c2",
   "metadata": {},
   "source": [
    "# Nesting of Python Tuples\n",
    "\n",
    "\n",
    "\n",
    "\n",
    "\n"
   ]
  },
  {
   "cell_type": "code",
   "execution_count": null,
   "id": "13739e13-77d7-44f2-a0da-76029af406d9",
   "metadata": {},
   "outputs": [
    {
     "name": "stdout",
     "output_type": "stream",
     "text": [
      "((0, 1, 2, 3), ('python', 'geek'))\n"
     ]
    }
   ],
   "source": [
    " Code for creating nested tuples\n",
    "tup1 = (0, 1, 2, 3)\n",
    "tup2 = ('python', 'geek')\n",
    "\n",
    "tup3 = (tup1, tup2)\n",
    "print(tup3)\n"
   ]
  },
  {
   "cell_type": "markdown",
   "id": "e036e8fa-58e7-4057-b71c-ac3b1bf4855c",
   "metadata": {},
   "source": [
    "# Repetition Python Tuples\n",
    "\n",
    "\n",
    "\n",
    "\n",
    "\n"
   ]
  },
  {
   "cell_type": "code",
   "execution_count": null,
   "id": "c517729f-8013-4707-9ade-e3d4dff325b4",
   "metadata": {},
   "outputs": [
    {
     "name": "stdout",
     "output_type": "stream",
     "text": [
      "('python', 'python', 'python')\n"
     ]
    }
   ],
   "source": [
    " Code to create a tuple with repetition\n",
    "tup = ('python',)*3\n",
    "print(tup)\n"
   ]
  },
  {
   "cell_type": "markdown",
   "id": "726d6a52-e253-4ec1-af29-09e26b117d8f",
   "metadata": {},
   "source": [
    "# Slicing Tuples in Python\n"
   ]
  },
  {
   "cell_type": "code",
   "execution_count": null,
   "id": "e5a8b7aa-bce1-4762-a861-db126cd3223c",
   "metadata": {},
   "outputs": [
    {
     "name": "stdout",
     "output_type": "stream",
     "text": [
      "(1, 2, 3)\n",
      "(3, 2, 1, 0)\n",
      "(2, 3)\n"
     ]
    }
   ],
   "source": [
    " code to test slicing\n",
    "tup = (0 ,1, 2, 3)\n",
    "\n",
    "print(tup[1:])\n",
    "print(tup[::-1])\n",
    "print(tup[2:4])"
   ]
  },
  {
   "cell_type": "markdown",
   "id": "c8e69463-3ada-4b0f-b490-ad8994102bc8",
   "metadata": {},
   "source": [
    "# Finding the Length of a Python Tuple\n",
    "."
   ]
  },
  {
   "cell_type": "code",
   "execution_count": null,
   "id": "7eab0fe0-8e75-4b16-8a09-6badc7c0efce",
   "metadata": {},
   "outputs": [
    {
     "name": "stdout",
     "output_type": "stream",
     "text": [
      "2\n"
     ]
    }
   ],
   "source": [
    " Code for printing the length of a tuple\n",
    "tup = ('python', 'geek')\n",
    "print(len(tup))"
   ]
  },
  {
   "cell_type": "markdown",
   "id": "f157403f-fcc7-42fe-ad32-023d89306003",
   "metadata": {},
   "source": [
    "# Multiple Data Types With Tuple\n",
    "\n",
    "\n",
    "\n",
    "\n",
    "\n"
   ]
  },
  {
   "cell_type": "code",
   "execution_count": null,
   "id": "bd720525-52ca-441d-b8ed-941560ce7556",
   "metadata": {},
   "outputs": [
    {
     "name": "stdout",
     "output_type": "stream",
     "text": [
      "('immutable', True, 23)\n"
     ]
    }
   ],
   "source": [
    " tuple with different datatypes\n",
    "tup = (\"immutable\", True, 23)\n",
    "print(tup)"
   ]
  },
  {
   "cell_type": "markdown",
   "id": "51a6e335-4729-4b9a-9a7f-c44fb2b55f06",
   "metadata": {},
   "source": [
    "# Converting a List to a Tuple\n"
   ]
  },
  {
   "cell_type": "code",
   "execution_count": null,
   "id": "deb723e7-4430-4cdc-9016-1ecbe789ece4",
   "metadata": {},
   "outputs": [
    {
     "name": "stdout",
     "output_type": "stream",
     "text": [
      "(0, 1, 2)\n"
     ]
    }
   ],
   "source": [
    " Code for converting a list and a string into a tuple\n",
    "a = [0, 1, 2]\n",
    "tup = tuple(a)\n",
    "\n",
    "print(tup)\n"
   ]
  },
  {
   "cell_type": "markdown",
   "id": "cc591567-396f-4cbd-a2e5-d7ad87a53ec3",
   "metadata": {},
   "source": [
    "# Unpacking a Tuple in Python\n",
    "\n",
    "\n",
    "\n",
    "\n",
    "\n"
   ]
  },
  {
   "cell_type": "code",
   "execution_count": 23,
   "id": "4b818824-98c1-43eb-aa96-8072baf5a6d2",
   "metadata": {},
   "outputs": [
    {
     "name": "stdout",
     "output_type": "stream",
     "text": [
      "100\n",
      "200\n",
      "300\n"
     ]
    }
   ],
   "source": [
    "a, b, c = (100, 200, 300)\n",
    "\n",
    "print(a)  \n",
    "print(b)  \n",
    "print(c)  "
   ]
  },
  {
   "cell_type": "markdown",
   "id": "de59beb1-734e-4351-960a-c48d79758689",
   "metadata": {},
   "source": [
    "# Key Rules:\n"
   ]
  },
  {
   "cell_type": "code",
   "execution_count": 24,
   "id": "4b3838bb-1878-4a1b-b03b-8fa7348f0665",
   "metadata": {},
   "outputs": [
    {
     "name": "stdout",
     "output_type": "stream",
     "text": [
      "100\n",
      "300\n"
     ]
    }
   ],
   "source": [
    "a, _, c = (100, 200, 300)\n",
    "print(a)  \n",
    "print(c)  \n"
   ]
  },
  {
   "cell_type": "code",
   "execution_count": 25,
   "id": "1fabfe6e-a982-494b-82c1-cfa017e2a01e",
   "metadata": {},
   "outputs": [
    {
     "name": "stdout",
     "output_type": "stream",
     "text": [
      "1\n",
      "[2, 3, 4, 5]\n"
     ]
    }
   ],
   "source": [
    "a, *b = (1, 2, 3, 4, 5)\n",
    "print(a)   \n",
    "print(b)   \n"
   ]
  },
  {
   "cell_type": "code",
   "execution_count": 29,
   "id": "3d03457b-343c-4a32-8975-2e48940cdec1",
   "metadata": {},
   "outputs": [
    {
     "name": "stdout",
     "output_type": "stream",
     "text": [
      "apple\n",
      "banana\n",
      "['cherry', 'strawberry', 'raspberry']\n"
     ]
    }
   ],
   "source": [
    "fruits = (\"apple\", \"banana\", \"cherry\", \"strawberry\", \"raspberry\")\n",
    "\n",
    "(green, yellow, *red) = fruits\n",
    "\n",
    "print(green)\n",
    "print(yellow)\n",
    "print(red)"
   ]
  },
  {
   "cell_type": "code",
   "execution_count": 30,
   "id": "998db577-1614-468e-9943-353fbb2c2c2b",
   "metadata": {},
   "outputs": [
    {
     "name": "stdout",
     "output_type": "stream",
     "text": [
      "apple\n",
      "['mango', 'papaya', 'pineapple']\n",
      "cherry\n"
     ]
    }
   ],
   "source": [
    "fruits = (\"apple\", \"mango\", \"papaya\", \"pineapple\", \"cherry\")\n",
    "\n",
    "(green, *tropic, red) = fruits\n",
    "\n",
    "print(green)\n",
    "print(tropic)\n",
    "print(red)"
   ]
  },
  {
   "cell_type": "markdown",
   "id": "20356714-12b0-4804-9e38-b4032685fb1e",
   "metadata": {},
   "source": [
    "# 3. Unpacking Nested Tuples\n"
   ]
  },
  {
   "cell_type": "code",
   "execution_count": 26,
   "id": "19dcd8dd-c8d9-4528-8f72-4f590889daba",
   "metadata": {},
   "outputs": [
    {
     "name": "stdout",
     "output_type": "stream",
     "text": [
      "1\n",
      "2\n",
      "3\n",
      "4\n"
     ]
    }
   ],
   "source": [
    "nested_tuple = (1, (2, 3), 4)\n",
    "a, (b, c), d = nested_tuple\n",
    "\n",
    "print(a)   \n",
    "print(b)   \n",
    "print(c)   \n",
    "print(d)   "
   ]
  },
  {
   "cell_type": "markdown",
   "id": "31ee8c09-8939-4c02-ad70-a4654236e99f",
   "metadata": {},
   "source": [
    "# 4. Tuple Unpacking with * in Function Arguments\n"
   ]
  },
  {
   "cell_type": "code",
   "execution_count": 27,
   "id": "6bde7e16-09fd-49fb-9967-862b75257a7b",
   "metadata": {},
   "outputs": [
    {
     "name": "stdout",
     "output_type": "stream",
     "text": [
      "10\n"
     ]
    }
   ],
   "source": [
    "def add(*args):\n",
    "    return sum(args)\n",
    "\n",
    "print(add(1, 2, 3, 4))  "
   ]
  },
  {
   "cell_type": "code",
   "execution_count": 28,
   "id": "fb3c46e3-a286-4512-b19f-8cbde91cbc57",
   "metadata": {},
   "outputs": [
    {
     "name": "stdout",
     "output_type": "stream",
     "text": [
      "6\n"
     ]
    }
   ],
   "source": [
    "def add(a, b, c):\n",
    "    return a + b + c\n",
    "\n",
    "nums = (1, 2, 3)\n",
    "print(add(*nums))  "
   ]
  },
  {
   "cell_type": "markdown",
   "id": "a258e4a9-f454-4c04-a8d6-569e8fa690e1",
   "metadata": {},
   "source": [
    "# Loop Through a Tuple\n",
    "\n",
    "\n"
   ]
  },
  {
   "cell_type": "code",
   "execution_count": null,
   "id": "0d6161f2-ae52-41fc-a51c-ce115f28edcf",
   "metadata": {},
   "outputs": [
    {
     "name": "stdout",
     "output_type": "stream",
     "text": [
      "apple\n",
      "banana\n",
      "cherry\n"
     ]
    }
   ],
   "source": [
    " Iterate through the items and print the values:\n",
    "\n",
    "thistuple = (\"apple\", \"banana\", \"cherry\")\n",
    "for x in thistuple:\n",
    "  print(x)"
   ]
  },
  {
   "cell_type": "markdown",
   "id": "6302088d-2a56-4f5f-8c0e-f07e874dc75d",
   "metadata": {},
   "source": [
    "# Loop Through the Index Numbers\n"
   ]
  },
  {
   "cell_type": "code",
   "execution_count": null,
   "id": "e9af96ae-c1e2-43d2-97f6-0d4c02d31031",
   "metadata": {},
   "outputs": [
    {
     "name": "stdout",
     "output_type": "stream",
     "text": [
      "apple\n",
      "banana\n",
      "cherry\n"
     ]
    }
   ],
   "source": [
    " Print all items by referring to their index number:\n",
    "\n",
    "thistuple = (\"apple\", \"banana\", \"cherry\")\n",
    "for i in range(len(thistuple)):\n",
    "  print(thistuple[i])"
   ]
  },
  {
   "cell_type": "code",
   "execution_count": null,
   "id": "73153757-d8cc-498b-a506-0d71261b1d38",
   "metadata": {},
   "outputs": [],
   "source": [
    " Using enumerate()\n",
    "We can use the enumerate() function of iterate over the tuple, if we need the index along with the value. This function returns both the index and the corresponding value of the tuple."
   ]
  },
  {
   "cell_type": "code",
   "execution_count": null,
   "id": "ba777967-2b5d-4e0a-bf9d-b65ed125eea9",
   "metadata": {},
   "outputs": [
    {
     "name": "stdout",
     "output_type": "stream",
     "text": [
      "Index 0: red\n",
      "Index 1: green\n",
      "Index 2: blue\n",
      "Index 3: yellow\n"
     ]
    }
   ],
   "source": [
    "t = ('red', 'green', 'blue', 'yellow')\n",
    "\n",
    " Here, i and color stores the index and value respectively\n",
    "for i, color in enumerate(t):\n",
    "    print(f\"Index {i}: {color}\")"
   ]
  },
  {
   "cell_type": "markdown",
   "id": "bfc654ba-7188-483b-87a0-bac52f87db17",
   "metadata": {},
   "source": [
    "# Using a While Loop\n"
   ]
  },
  {
   "cell_type": "code",
   "execution_count": null,
   "id": "e7665d0d-e828-4d01-b565-ca2ea63b76a1",
   "metadata": {},
   "outputs": [
    {
     "name": "stdout",
     "output_type": "stream",
     "text": [
      "apple\n",
      "banana\n",
      "cherry\n"
     ]
    }
   ],
   "source": [
    " Print all items, using a while loop to go through all the index numbers:\n",
    "\n",
    "thistuple = (\"apple\", \"banana\", \"cherry\")\n",
    "i = 0\n",
    "while i < len(thistuple):\n",
    "  print(thistuple[i])\n",
    "  i = i + 1"
   ]
  },
  {
   "cell_type": "code",
   "execution_count": null,
   "id": "2c839a7d-2183-4629-b5c4-4d363f213c4f",
   "metadata": {},
   "outputs": [
    {
     "name": "stdout",
     "output_type": "stream",
     "text": [
      "red\n",
      "green\n",
      "blue\n",
      "yellow\n"
     ]
    }
   ],
   "source": [
    "t = ('red', 'green', 'blue', 'yellow')\n",
    "\n",
    " Start from the first index\n",
    "i = 0\n",
    "\n",
    " Loops till the last index (i.e., 3)\n",
    "while i < len(t):\n",
    "    print(t[i])\n",
    "    i += 1"
   ]
  },
  {
   "cell_type": "markdown",
   "id": "1149c5dc-3ec4-4377-91e9-aae1c3c99977",
   "metadata": {},
   "source": [
    "# Join Two Tuples\n"
   ]
  },
  {
   "cell_type": "code",
   "execution_count": 36,
   "id": "d7599a41-63f5-4659-a616-c4e010468706",
   "metadata": {},
   "outputs": [
    {
     "name": "stdout",
     "output_type": "stream",
     "text": [
      "('a', 'b', 'c', 1, 2, 3)\n"
     ]
    }
   ],
   "source": [
    "tuple1 = (\"a\", \"b\" , \"c\")\n",
    "tuple2 = (1, 2, 3)\n",
    "\n",
    "tuple3 = tuple1 + tuple2\n",
    "print(tuple3)"
   ]
  },
  {
   "cell_type": "markdown",
   "id": "fa14fc04-70f4-40b7-8778-439d00127a4f",
   "metadata": {},
   "source": [
    "# Joining Tuples Using List Comprehension\n"
   ]
  },
  {
   "cell_type": "code",
   "execution_count": null,
   "id": "b51d0f7a-a4e9-4223-aa26-ba15574d8793",
   "metadata": {},
   "outputs": [
    {
     "name": "stdout",
     "output_type": "stream",
     "text": [
      "Joined Tuple: [36, 24, 3, 84, 5, 81]\n"
     ]
    }
   ],
   "source": [
    " In this example, we are joining two tuples, T1 and T2, into a single tuple using list comprehension. The resulting tuple, joined_tuple, contains all elements from both T1 and T2 −\n",
    "\n",
    "\n",
    " Two tuples to be joined\n",
    "T1 = (36, 24, 3)\n",
    "T2 = (84, 5, 81)\n",
    " Joining the tuples using list comprehension\n",
    "joined_tuple = [item for subtuple in [T1, T2] for item in subtuple]\n",
    " Printing the joined tuple\n",
    "print(\"Joined Tuple:\", joined_tuple)\n"
   ]
  },
  {
   "cell_type": "code",
   "execution_count": 40,
   "id": "5c80c309-f657-4d9f-af16-b0dd598d283b",
   "metadata": {},
   "outputs": [
    {
     "name": "stdout",
     "output_type": "stream",
     "text": [
      "Joined Tuple: (10, 20, 30, 40, 'one', 'two', 'three', 'four')\n"
     ]
    }
   ],
   "source": [
    "T1 = (10,20,30,40)\n",
    "T2 = ('one', 'two', 'three', 'four')\n",
    "L1 = list(T1)\n",
    "L2 = list(T2)\n",
    "L1.extend(L2)\n",
    "T1 = tuple(L1)\n",
    "print (\"Joined Tuple:\", T1)"
   ]
  },
  {
   "cell_type": "markdown",
   "id": "793f4f0a-916c-4f6f-bd8e-1b52a192eaa9",
   "metadata": {},
   "source": [
    "# Join Tuples using sum() Function\n",
    "I\n"
   ]
  },
  {
   "cell_type": "code",
   "execution_count": 41,
   "id": "5bfd0b72-1aeb-4911-b7cd-41d9eb19b952",
   "metadata": {},
   "outputs": [
    {
     "name": "stdout",
     "output_type": "stream",
     "text": [
      "Joined Tuple: (10, 20, 30, 40, 'one', 'two', 'three', 'four')\n"
     ]
    }
   ],
   "source": [
    "T1 = (10,20,30,40)\n",
    "T2 = ('one', 'two', 'three', 'four')\n",
    "T3 = sum((T1, T2), ())\n",
    "print (\"Joined Tuple:\", T3)"
   ]
  },
  {
   "cell_type": "markdown",
   "id": "b947c769-8d2a-4a47-97fe-4a93af25f953",
   "metadata": {},
   "source": [
    "# Multiply Tuples\n",
    ":"
   ]
  },
  {
   "cell_type": "code",
   "execution_count": null,
   "id": "71587d9c-1279-400e-a1f1-50ddbfc5138e",
   "metadata": {},
   "outputs": [
    {
     "name": "stdout",
     "output_type": "stream",
     "text": [
      "('apple', 'banana', 'cherry', 'apple', 'banana', 'cherry')\n"
     ]
    }
   ],
   "source": [
    " Multiply the fruits tuple by 2:\n",
    "\n",
    "fruits = (\"apple\", \"banana\", \"cherry\")\n",
    "mytuple = fruits * 2\n",
    "\n",
    "print(mytuple)\n"
   ]
  },
  {
   "cell_type": "markdown",
   "id": "098b9ffb-5bc2-453e-98f3-0cb9f8c551ed",
   "metadata": {},
   "source": [
    "# Joining Tuples using for Loop\n"
   ]
  },
  {
   "cell_type": "code",
   "execution_count": null,
   "id": "4be80e6f-ffda-4c0c-8c44-0dd8ecd7d0b9",
   "metadata": {},
   "outputs": [
    {
     "name": "stdout",
     "output_type": "stream",
     "text": [
      "(10, 20, 30, 40, 'one', 'two', 'three', 'four')\n"
     ]
    }
   ],
   "source": [
    " In the following example, we are iterating over each element in tuple T2, and for each element, we are appending it to tuple T1, effectively joining the two tuples −\n",
    "T1 = (10,20,30,40)\n",
    "T2 = ('one', 'two', 'three', 'four')\n",
    "for t in T2:\n",
    "   T1+=(t,)\n",
    "print (T1)"
   ]
  },
  {
   "cell_type": "markdown",
   "id": "d02ecf34-b339-4233-8cbd-44e8951b465f",
   "metadata": {},
   "source": [
    "# Count() Method\n"
   ]
  },
  {
   "cell_type": "code",
   "execution_count": null,
   "id": "e09837a4-e27b-43a9-94e0-6906863b3937",
   "metadata": {},
   "outputs": [
    {
     "name": "stdout",
     "output_type": "stream",
     "text": [
      "Count of 3 in Tuple1 is: 3\n",
      "Count of Python in Tuple2 is: 3\n"
     ]
    }
   ],
   "source": [
    " Using the Tuple count() method \n",
    " Creating tuples \n",
    "Tuple1 = (0, 1, 2, 3, 2, 3, 1, 3, 2) \n",
    "Tuple2 = ('python', 'geek', 'python',  \n",
    "          'for', 'java', 'python') \n",
    "   count the appearance of 3 \n",
    "res = Tuple1.count(3) \n",
    "print('Count of 3 in Tuple1 is:', res) \n",
    "  \n",
    " count the appearance of python \n",
    "res = Tuple2.count('python') \n",
    "print('Count of Python in Tuple2 is:', res)"
   ]
  },
  {
   "cell_type": "code",
   "execution_count": null,
   "id": "26ccc7a6-9346-4479-98f1-b379e7bc1317",
   "metadata": {},
   "outputs": [
    {
     "name": "stdout",
     "output_type": "stream",
     "text": [
      "Count of (2, 3) in Tuple is: 2\n",
      "Count of [3, 2] in Tuple is: 1\n"
     ]
    }
   ],
   "source": [
    "Counting tuples and lists as elements in Tuples\n",
    " Creating tuples \n",
    "Tuple = (0, 1, (2, 3), (2, 3), 1,  \n",
    "         [3, 2], 'geeks', (0,)) \n",
    "  \n",
    " count the appearance of (2, 3) \n",
    "res = Tuple.count((2, 3)) \n",
    "print('Count of (2, 3) in Tuple is:', res) \n",
    "  \n",
    " count the appearance of [3, 2] \n",
    "res = Tuple.count([3, 2]) \n",
    "print('Count of [3, 2] in Tuple is:', res)"
   ]
  },
  {
   "cell_type": "code",
   "execution_count": null,
   "id": "2ef533ae-5a1f-4fbe-a1eb-e8f1ac0413d5",
   "metadata": {},
   "outputs": [
    {
     "name": "stdout",
     "output_type": "stream",
     "text": [
      "First occurrence of 3 is 3\n",
      "First occurrence of 3 after 4th index is: 5\n"
     ]
    }
   ],
   "source": [
    " Using Tuple Index() Method\n",
    " Creating tuples \n",
    "Tuple = (0, 1, 2, 3, 2, 3, 1, 3, 2) \n",
    "  \n",
    " getting the index of 3 \n",
    "res = Tuple.index(3) \n",
    "print('First occurrence of 3 is', res) \n",
    "  \n",
    " getting the index of 3 after 4th \n",
    " index \n",
    "res = Tuple.index(3, 4) \n",
    "print('First occurrence of 3 after 4th index is:', res)"
   ]
  }
 ],
 "metadata": {
  "kernelspec": {
   "display_name": "Python 3 (ipykernel)",
   "language": "python",
   "name": "python3"
  },
  "language_info": {
   "codemirror_mode": {
    "name": "ipython",
    "version": 3
   },
   "file_extension": ".py",
   "mimetype": "text/x-python",
   "name": "python",
   "nbconvert_exporter": "python",
   "pygments_lexer": "ipython3",
   "version": "3.12.7"
  }
 },
 "nbformat": 4,
 "nbformat_minor": 5
}
