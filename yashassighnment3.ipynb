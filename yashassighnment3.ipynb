{
  "cells": [
    {
      "cell_type": "code",
      "execution_count": 3,
      "metadata": {},
      "outputs": [
        {
          "name": "stdout",
          "output_type": "stream",
          "text": [
            "Set elements: {1, 2, 3, 4, 5}\n"
          ]
        }
      ],
      "source": [
        "my_set = {1, 2, 3, 4, 5}\n",
        "print(\"Set elements:\", my_set)\n",
        "\n"
      ]
    },
    {
      "cell_type": "code",
      "execution_count": null,
      "metadata": {},
      "outputs": [],
      "source": [
        "my_set.add(6)\n",
        "print(\"After adding 6:\", my_set)\n"
      ]
    },
    {
      "cell_type": "code",
      "execution_count": null,
      "metadata": {},
      "outputs": [],
      "source": [
        "my_set.add(6)\n",
        "print(\"After adding 6:\", my_set)\n"
      ]
    },
    {
      "cell_type": "code",
      "execution_count": null,
      "metadata": {},
      "outputs": [],
      "source": [
        "my_set.remove(3)\n",
        "print(\"After removing 3:\", my_set)\n"
      ]
    },
    {
      "cell_type": "code",
      "execution_count": null,
      "metadata": {},
      "outputs": [],
      "source": [
        "my_set.clear()\n",
        "print(\"After clearing:\", my_set)\n"
      ]
    },
    {
      "cell_type": "code",
      "execution_count": null,
      "metadata": {},
      "outputs": [],
      "source": [
        "set_a = {10, 20, 30}\n",
        "set_b = set_a.copy()\n",
        "print(\"Copied set_b:\", set_b)"
      ]
    },
    {
      "cell_type": "code",
      "execution_count": null,
      "metadata": {},
      "outputs": [],
      "source": [
        "exists = 20 in set_b\n",
        "print(\"Is 20 in set_b?\", exists)"
      ]
    },
    {
      "cell_type": "code",
      "execution_count": null,
      "metadata": {},
      "outputs": [],
      "source": [
        "print(\"Length of set_b:\", len(set_b))"
      ]
    },
    {
      "cell_type": "code",
      "execution_count": null,
      "metadata": {},
      "outputs": [],
      "source": [
        "print(\"Iterating set_b:\")\n",
        "for elem in set_b:\n",
        "    print(elem)\n",
        "\n",
        "# Set Operations\n",
        "\n",
        "set_x = {1, 2, 3, 4}\n",
        "set_y = {3, 4, 5, 6}"
      ]
    },
    {
      "cell_type": "code",
      "execution_count": null,
      "metadata": {},
      "outputs": [],
      "source": [
        "print(\"Union:\", set_x.union(set_y))\n"
      ]
    },
    {
      "cell_type": "code",
      "execution_count": null,
      "metadata": {},
      "outputs": [],
      "source": [
        "print(\"Intersection:\", set_x.intersection(set_y))\n",
        "\n",
        "\n",
        "\n"
      ]
    },
    {
      "cell_type": "code",
      "execution_count": null,
      "metadata": {},
      "outputs": [],
      "source": [
        "\n",
        "print(\"Difference (set_x - set_y):\", set_x.difference(set_y))\n",
        "\n",
        "\n",
        "\n"
      ]
    },
    {
      "cell_type": "code",
      "execution_count": null,
      "metadata": {},
      "outputs": [],
      "source": [
        "print(\"Symmetric Difference:\", set_x.symmetric_difference(set_y))\n"
      ]
    },
    {
      "cell_type": "code",
      "execution_count": null,
      "metadata": {},
      "outputs": [],
      "source": [
        "print(\"Is set_x subset of set_y?\", set_x.issubset(set_y))"
      ]
    },
    {
      "cell_type": "code",
      "execution_count": null,
      "metadata": {},
      "outputs": [],
      "source": [
        "print(\"Is set_x superset of set_y?\", set_x.issuperset(set_y))"
      ]
    },
    {
      "cell_type": "code",
      "execution_count": null,
      "metadata": {},
      "outputs": [],
      "source": [
        "print(\"Are set_x and set_y disjoint?\", set_x.isdisjoint(set_y))"
      ]
    },
    {
      "cell_type": "code",
      "execution_count": null,
      "metadata": {},
      "outputs": [],
      "source": [
        "list_with_dupes = [1, 2, 2, 3, 4, 4, 5]\n",
        "unique_set = set(list_with_dupes)\n",
        "print(\"Unique elements:\", unique_set)\n"
      ]
    },
    {
      "cell_type": "code",
      "execution_count": null,
      "metadata": {},
      "outputs": [],
      "source": [
        "list_again = list(unique_set)\n",
        "print(\"Converted back to list:\", list_again)"
      ]
    },
    {
      "cell_type": "code",
      "execution_count": null,
      "metadata": {},
      "outputs": [],
      "source": [
        "list1 = [1, 2, 3, 4]\n",
        "list2 = [3, 4, 5, 6]\n",
        "common = set(list1).intersection(set(list2))\n",
        "print(\"Common elements in lists:\", common)"
      ]
    },
    {
      "cell_type": "code",
      "execution_count": null,
      "metadata": {},
      "outputs": [],
      "source": [
        "diff = set(list1).difference(set(list2))\n",
        "print(\"Elements in list1 not in list2:\", diff)"
      ]
    },
    {
      "cell_type": "code",
      "execution_count": null,
      "metadata": {},
      "outputs": [],
      "source": [
        "squares = {x**2 for x in range(1, 6)}\n",
        "print(\"Set of squares from 1 to 5:\", squares)\n"
      ]
    },
    {
      "cell_type": "code",
      "execution_count": null,
      "metadata": {},
      "outputs": [],
      "source": [
        "frozen = frozenset([1, 2, 3, 4, 5])\n",
        "print(\"Frozenset elements:\", frozen)"
      ]
    }
  ],
  "metadata": {
    "colab": {
      "provenance": []
    },
    "kernelspec": {
      "display_name": "Python 3",
      "name": "python3"
    },
    "language_info": {
      "codemirror_mode": {
        "name": "ipython",
        "version": 3
      },
      "file_extension": ".py",
      "mimetype": "text/x-python",
      "name": "python",
      "nbconvert_exporter": "python",
      "pygments_lexer": "ipython3",
      "version": "3.11.9"
    }
  },
  "nbformat": 4,
  "nbformat_minor": 0
}
