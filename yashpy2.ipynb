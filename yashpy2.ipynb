{
 "cells": [
  {
   "cell_type": "markdown",
   "id": "3f932534-9f82-4825-a04d-bb21d370930c",
   "metadata": {},
   "source": [
    "## Boolean"
   ]
  },
  {
   "cell_type": "code",
   "execution_count": 7,
   "id": "40d44bfa-c0ea-45f1-a69b-bb229b9cda37",
   "metadata": {},
   "outputs": [
    {
     "name": "stdout",
     "output_type": "stream",
     "text": [
      "True False\n"
     ]
    }
   ],
   "source": [
    "print (True, False)"
   ]
  },
  {
   "cell_type": "code",
   "execution_count": 9,
   "id": "85938ddd-c539-468c-a950-5b3eb0fe72f2",
   "metadata": {},
   "outputs": [
    {
     "data": {
      "text/plain": [
       "bool"
      ]
     },
     "execution_count": 9,
     "metadata": {},
     "output_type": "execute_result"
    }
   ],
   "source": [
    "type(True)"
   ]
  },
  {
   "cell_type": "code",
   "execution_count": 10,
   "id": "c3a59f17-f2eb-43e5-b39e-7b83333b23b2",
   "metadata": {},
   "outputs": [
    {
     "data": {
      "text/plain": [
       "bool"
      ]
     },
     "execution_count": 10,
     "metadata": {},
     "output_type": "execute_result"
    }
   ],
   "source": [
    "type (False)"
   ]
  },
  {
   "cell_type": "code",
   "execution_count": 2,
   "id": "18a61ba9-c230-47c1-83e0-81a6deef7230",
   "metadata": {},
   "outputs": [],
   "source": [
    "mystr=\"Mdl10\""
   ]
  },
  {
   "cell_type": "code",
   "execution_count": 3,
   "id": "16c737b7-7364-4fd2-a3e9-84a831baffb6",
   "metadata": {},
   "outputs": [
    {
     "name": "stdout",
     "output_type": "stream",
     "text": [
      "True\n"
     ]
    }
   ],
   "source": [
    "print(mystr.isalnum())"
   ]
  },
  {
   "cell_type": "code",
   "execution_count": 6,
   "id": "fdaa2612-6ebb-43ce-b8af-0fdae1f7862a",
   "metadata": {},
   "outputs": [
    {
     "name": "stdout",
     "output_type": "stream",
     "text": [
      "False\n"
     ]
    }
   ],
   "source": [
    "print(mystr.isalpha())  #check all the character in the string are alphabet"
   ]
  },
  {
   "cell_type": "code",
   "execution_count": 7,
   "id": "731c8ff7-f1ff-4cb1-978a-88022fc13f4c",
   "metadata": {},
   "outputs": [
    {
     "name": "stdout",
     "output_type": "stream",
     "text": [
      "False\n"
     ]
    }
   ],
   "source": [
    "print(mystr.isdigit())   #check all the character in the string are digits"
   ]
  },
  {
   "cell_type": "code",
   "execution_count": 8,
   "id": "21693991-eb8e-413b-bd52-35c2c5ea5a66",
   "metadata": {},
   "outputs": [
    {
     "name": "stdout",
     "output_type": "stream",
     "text": [
      "True\n"
     ]
    }
   ],
   "source": [
    "print(mystr.istitle()) #check all the character in the string is Title"
   ]
  },
  {
   "cell_type": "code",
   "execution_count": 9,
   "id": "46db089d-84e4-418a-af7b-dc2a62e280ee",
   "metadata": {},
   "outputs": [
    {
     "name": "stdout",
     "output_type": "stream",
     "text": [
      "False\n"
     ]
    }
   ],
   "source": [
    "print(mystr.isupper()) "
   ]
  },
  {
   "cell_type": "code",
   "execution_count": 10,
   "id": "5f83a2e5-336e-47f6-80de-661933452aa3",
   "metadata": {},
   "outputs": [
    {
     "name": "stdout",
     "output_type": "stream",
     "text": [
      "False\n"
     ]
    }
   ],
   "source": [
    "print(mystr.islower()) "
   ]
  },
  {
   "cell_type": "markdown",
   "id": "f468a1c6-5bcd-4d5e-8272-e8e00659b066",
   "metadata": {},
   "source": [
    "## Logical operators"
   ]
  },
  {
   "cell_type": "code",
   "execution_count": 12,
   "id": "b8b587a7-2c09-468f-9650-baebe33c39c1",
   "metadata": {},
   "outputs": [
    {
     "data": {
      "text/plain": [
       "True"
      ]
     },
     "execution_count": 12,
     "metadata": {},
     "output_type": "execute_result"
    }
   ],
   "source": [
    "True and True"
   ]
  },
  {
   "cell_type": "code",
   "execution_count": 15,
   "id": "574039bc-4783-461e-9fd5-3a61df473cbe",
   "metadata": {},
   "outputs": [
    {
     "data": {
      "text/plain": [
       "False"
      ]
     },
     "execution_count": 15,
     "metadata": {},
     "output_type": "execute_result"
    }
   ],
   "source": [
    "True and False"
   ]
  },
  {
   "cell_type": "code",
   "execution_count": 16,
   "id": "85184059-5991-41d0-a12a-e1125a95c7c3",
   "metadata": {},
   "outputs": [
    {
     "data": {
      "text/plain": [
       "False"
      ]
     },
     "execution_count": 16,
     "metadata": {},
     "output_type": "execute_result"
    }
   ],
   "source": [
    "False and False"
   ]
  },
  {
   "cell_type": "code",
   "execution_count": 17,
   "id": "3ab1831d-687d-4f5e-a9d2-a230a947a34d",
   "metadata": {},
   "outputs": [
    {
     "data": {
      "text/plain": [
       "True"
      ]
     },
     "execution_count": 17,
     "metadata": {},
     "output_type": "execute_result"
    }
   ],
   "source": [
    "True or True"
   ]
  },
  {
   "cell_type": "code",
   "execution_count": 18,
   "id": "53ab9483-1e2c-4b80-9245-be096f80b054",
   "metadata": {},
   "outputs": [
    {
     "data": {
      "text/plain": [
       "True"
      ]
     },
     "execution_count": 18,
     "metadata": {},
     "output_type": "execute_result"
    }
   ],
   "source": [
    "True or False"
   ]
  },
  {
   "cell_type": "code",
   "execution_count": 19,
   "id": "712045c9-9061-4498-9ff7-528bab87260d",
   "metadata": {},
   "outputs": [
    {
     "data": {
      "text/plain": [
       "False"
      ]
     },
     "execution_count": 19,
     "metadata": {},
     "output_type": "execute_result"
    }
   ],
   "source": [
    "False or False"
   ]
  },
  {
   "cell_type": "code",
   "execution_count": 21,
   "id": "5c29f33b-3d21-45e9-8558-4b328b6fea60",
   "metadata": {},
   "outputs": [
    {
     "data": {
      "text/plain": [
       "True"
      ]
     },
     "execution_count": 21,
     "metadata": {},
     "output_type": "execute_result"
    }
   ],
   "source": [
    "str = 'mdl'\n",
    "mystr= '111'\n",
    "str.isalnum() or mystr.isnum()"
   ]
  },
  {
   "cell_type": "code",
   "execution_count": null,
   "id": "51f14cfb-c9a9-4a79-b859-33ce6d01a302",
   "metadata": {},
   "outputs": [],
   "source": []
  }
 ],
 "metadata": {
  "kernelspec": {
   "display_name": "Python 3 (ipykernel)",
   "language": "python",
   "name": "python3"
  },
  "language_info": {
   "codemirror_mode": {
    "name": "ipython",
    "version": 3
   },
   "file_extension": ".py",
   "mimetype": "text/x-python",
   "name": "python",
   "nbconvert_exporter": "python",
   "pygments_lexer": "ipython3",
   "version": "3.12.7"
  }
 },
 "nbformat": 4,
 "nbformat_minor": 5
}
