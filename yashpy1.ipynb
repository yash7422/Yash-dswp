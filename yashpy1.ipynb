{
 "cells": [
  {
   "cell_type": "markdown",
   "id": "652cd9dc-0279-44dc-894a-1672a4dfaab9",
   "metadata": {},
   "source": [
    "# Python Programming\n",
    "\n",
    "\n",
    "- Data Types\n",
    "  "
   ]
  },
  {
   "cell_type": "code",
   "execution_count": 1,
   "id": "c6e5614b-5c26-4a48-a89f-06153b92308d",
   "metadata": {},
   "outputs": [
    {
     "data": {
      "text/plain": [
       "int"
      ]
     },
     "execution_count": 1,
     "metadata": {},
     "output_type": "execute_result"
    }
   ],
   "source": [
    "type(1)"
   ]
  },
  {
   "cell_type": "code",
   "execution_count": 2,
   "id": "7b6659c0-991e-490d-8410-4ae28cfef0a0",
   "metadata": {},
   "outputs": [
    {
     "data": {
      "text/plain": [
       "str"
      ]
     },
     "execution_count": 2,
     "metadata": {},
     "output_type": "execute_result"
    }
   ],
   "source": [
    "type(\"Hello\")"
   ]
  },
  {
   "cell_type": "code",
   "execution_count": 3,
   "id": "244fd377-7bb5-4699-b60b-b38506c1cf6b",
   "metadata": {},
   "outputs": [
    {
     "data": {
      "text/plain": [
       "bool"
      ]
     },
     "execution_count": 3,
     "metadata": {},
     "output_type": "execute_result"
    }
   ],
   "source": [
    "type(True)"
   ]
  },
  {
   "cell_type": "code",
   "execution_count": 4,
   "id": "5fb5ca48-2b95-4c8d-9b99-dc0ee227738b",
   "metadata": {},
   "outputs": [
    {
     "data": {
      "text/plain": [
       "float"
      ]
     },
     "execution_count": 4,
     "metadata": {},
     "output_type": "execute_result"
    }
   ],
   "source": [
    "type(1.0)"
   ]
  },
  {
   "cell_type": "markdown",
   "id": "8c60c056-a6aa-4cd1-a76e-9482f541d2f9",
   "metadata": {},
   "source": [
    "- Strings"
   ]
  },
  {
   "cell_type": "code",
   "execution_count": 5,
   "id": "b776a1a3-fdba-4b92-8ba3-c82c7bb75afb",
   "metadata": {},
   "outputs": [
    {
     "data": {
      "text/plain": [
       "'hello'"
      ]
     },
     "execution_count": 5,
     "metadata": {},
     "output_type": "execute_result"
    }
   ],
   "source": [
    "\"hello\""
   ]
  },
  {
   "cell_type": "code",
   "execution_count": 6,
   "id": "5191fbc2-93f7-4d68-8312-1e9ec5e2b362",
   "metadata": {},
   "outputs": [
    {
     "data": {
      "text/plain": [
       "'hello'"
      ]
     },
     "execution_count": 6,
     "metadata": {},
     "output_type": "execute_result"
    }
   ],
   "source": [
    "'hello'"
   ]
  },
  {
   "cell_type": "code",
   "execution_count": 7,
   "id": "35d2730b-6008-4252-b938-7fd9308708ba",
   "metadata": {},
   "outputs": [
    {
     "data": {
      "text/plain": [
       "str"
      ]
     },
     "execution_count": 7,
     "metadata": {},
     "output_type": "execute_result"
    }
   ],
   "source": [
    "type(\"Hello\")"
   ]
  },
  {
   "cell_type": "code",
   "execution_count": 8,
   "id": "1e31c992-d4d5-4cf7-901e-98b1da673c77",
   "metadata": {},
   "outputs": [
    {
     "data": {
      "text/plain": [
       "str"
      ]
     },
     "execution_count": 8,
     "metadata": {},
     "output_type": "execute_result"
    }
   ],
   "source": [
    "type('Hello')"
   ]
  },
  {
   "cell_type": "markdown",
   "id": "9a485612-16ec-40ae-b19b-9c56e9ddf9cd",
   "metadata": {},
   "source": [
    "# Variable Assignment"
   ]
  },
  {
   "cell_type": "code",
   "execution_count": 37,
   "id": "4903d758-cff7-4f80-900a-6f38075ea53d",
   "metadata": {},
   "outputs": [],
   "source": [
    "a = 10"
   ]
  },
  {
   "cell_type": "code",
   "execution_count": 38,
   "id": "d4565b1c-0a62-4b6f-93f5-711581aae347",
   "metadata": {},
   "outputs": [
    {
     "data": {
      "text/plain": [
       "int"
      ]
     },
     "execution_count": 38,
     "metadata": {},
     "output_type": "execute_result"
    }
   ],
   "source": [
    "type(a)"
   ]
  },
  {
   "cell_type": "code",
   "execution_count": 12,
   "id": "87d8a366-12fc-42b3-bb8c-6b65a49142cc",
   "metadata": {},
   "outputs": [],
   "source": [
    "a = \"MDL\""
   ]
  },
  {
   "cell_type": "code",
   "execution_count": 13,
   "id": "22d5e468-ea5d-44ee-a6e3-3a3f3eb157a7",
   "metadata": {},
   "outputs": [
    {
     "data": {
      "text/plain": [
       "str"
      ]
     },
     "execution_count": 13,
     "metadata": {},
     "output_type": "execute_result"
    }
   ],
   "source": [
    "type(a)"
   ]
  },
  {
   "cell_type": "code",
   "execution_count": null,
   "id": "72b21dbe-2918-4722-aca8-effacf5c7d8f",
   "metadata": {},
   "outputs": [],
   "source": [
    "\n",
    "a= 10\n",
    "b = 20"
   ]
  },
  {
   "cell_type": "code",
   "execution_count": 15,
   "id": "8fbf34ab-5bc5-45d6-834b-30efa7745671",
   "metadata": {},
   "outputs": [
    {
     "name": "stdout",
     "output_type": "stream",
     "text": [
      "30\n",
      "200\n",
      "0\n",
      "200.5\n"
     ]
    }
   ],
   "source": [
    "print(a + b)\n",
    "print(a*b)\n",
    "print(b%a)\n",
    "print((a*b)+(a/b))"
   ]
  },
  {
   "cell_type": "markdown",
   "id": "d692f592-85a9-4ca6-8c87-63e4de045a1e",
   "metadata": {},
   "source": [
    "# Print "
   ]
  },
  {
   "cell_type": "markdown",
   "id": "d8ef31c8-c19f-4c9f-8c87-68bc8a0a6464",
   "metadata": {},
   "source": [
    "# Single variable\n"
   ]
  },
  {
   "cell_type": "code",
   "execution_count": 16,
   "id": "01366cfe-bb47-4ae8-a28e-86cf92a8e4bc",
   "metadata": {},
   "outputs": [
    {
     "name": "stdout",
     "output_type": "stream",
     "text": [
      "MDL\n"
     ]
    }
   ],
   "source": [
    "s = \"MDL\"\n",
    "print(s)\n"
   ]
  },
  {
   "cell_type": "markdown",
   "id": "94f0026e-6c8a-4f70-b3c4-fbf85dbf8543",
   "metadata": {},
   "source": [
    "# Multiple Variables\n"
   ]
  },
  {
   "cell_type": "code",
   "execution_count": 17,
   "id": "cee988a4-f448-497f-8f8a-7e0d344ec53e",
   "metadata": {},
   "outputs": [
    {
     "name": "stdout",
     "output_type": "stream",
     "text": [
      "Ram is 25 Lonere\n"
     ]
    }
   ],
   "source": [
    "s = \"Ram is\"\n",
    "age = 25\n",
    "city = \"Lonere\"\n",
    "print(s, age, city)"
   ]
  },
  {
   "cell_type": "code",
   "execution_count": 18,
   "id": "91968ab9-dfda-47cd-a509-da2ebf1dfc9b",
   "metadata": {},
   "outputs": [
    {
     "name": "stdout",
     "output_type": "stream",
     "text": [
      "MDL\n"
     ]
    }
   ],
   "source": [
    "print('MDL')"
   ]
  },
  {
   "cell_type": "code",
   "execution_count": 19,
   "id": "d708fc2c-ea1d-40e3-934b-6436ff9df087",
   "metadata": {},
   "outputs": [],
   "source": [
    "first_name = 'Manjushree'\n",
    "last_name = 'Laddha'"
   ]
  },
  {
   "cell_type": "code",
   "execution_count": 20,
   "id": "f476e860-b19b-4bd7-a354-1b15df152f92",
   "metadata": {},
   "outputs": [
    {
     "name": "stdout",
     "output_type": "stream",
     "text": [
      "My first name is Manjushree and Last name is Laddha\n"
     ]
    }
   ],
   "source": [
    "print(\"My first name is {} and Last name is {}\".format(first_name,last_name))"
   ]
  },
  {
   "cell_type": "code",
   "execution_count": 21,
   "id": "b7d3453d-7815-46b4-b9f0-5823111a731e",
   "metadata": {},
   "outputs": [
    {
     "name": "stdout",
     "output_type": "stream",
     "text": [
      "My first name is Laddha and Last name is Manjushree\n"
     ]
    }
   ],
   "source": [
    "print(\"My first name is {} and Last name is {}\".format(last_name,first_name))"
   ]
  },
  {
   "cell_type": "code",
   "execution_count": 22,
   "id": "3adf6d65-6d4d-49ad-b753-f8b02aa43b67",
   "metadata": {},
   "outputs": [
    {
     "name": "stdout",
     "output_type": "stream",
     "text": [
      "My first name is Manjushree and Last name is Laddha\n"
     ]
    }
   ],
   "source": [
    "print(\"My first name is {first} and Last name is {last}\".format(first = first_name, last = last_name))"
   ]
  },
  {
   "cell_type": "code",
   "execution_count": 23,
   "id": "24116480-27aa-45a7-9270-052fd52c1fb4",
   "metadata": {},
   "outputs": [
    {
     "name": "stdout",
     "output_type": "stream",
     "text": [
      "My first name is Manjushree and Last name is Laddha\n"
     ]
    }
   ],
   "source": [
    "print(\"My first name is {first} and Last name is {last}\".format(last = last_name, first = first_name))"
   ]
  },
  {
   "cell_type": "markdown",
   "id": "ac34b3fe-2808-4251-98c4-66535532987d",
   "metadata": {},
   "source": [
    "#  Using sep and end parameter"
   ]
  },
  {
   "cell_type": "markdown",
   "id": "bc4f8e05-0f7c-41de-8c02-391da4e9db71",
   "metadata": {},
   "source": [
    "## end Parameter with '@'\n"
   ]
  },
  {
   "cell_type": "code",
   "execution_count": 24,
   "id": "880bca89-fa24-404f-a1cc-adbb8e741520",
   "metadata": {},
   "outputs": [
    {
     "name": "stdout",
     "output_type": "stream",
     "text": [
      "Python@programming\n"
     ]
    }
   ],
   "source": [
    "print(\"Python\", end='@')\n",
    "print(\"programming\")"
   ]
  },
  {
   "cell_type": "code",
   "execution_count": 25,
   "id": "f847e2cb-e05b-4461-a993-d9621a621804",
   "metadata": {},
   "outputs": [
    {
     "name": "stdout",
     "output_type": "stream",
     "text": [
      "pratik@dbatu.ac.in\n"
     ]
    }
   ],
   "source": [
    "print('pratik', 'dbatu.ac.in', sep='@')"
   ]
  },
  {
   "cell_type": "markdown",
   "id": "49e897e3-b2a9-4670-8339-914fd42180ec",
   "metadata": {},
   "source": [
    "## Seprating with Comma"
   ]
  },
  {
   "cell_type": "code",
   "execution_count": 26,
   "id": "7dc36a3d-fa28-4fb0-8e9a-3c056bc13120",
   "metadata": {},
   "outputs": [
    {
     "name": "stdout",
     "output_type": "stream",
     "text": [
      "GFG\n"
     ]
    }
   ],
   "source": [
    "print('G', 'F', 'G', sep='')"
   ]
  },
  {
   "cell_type": "markdown",
   "id": "79f17bb8-d348-4924-ad07-3d8e86d8b89a",
   "metadata": {},
   "source": [
    "## for formatting a date"
   ]
  },
  {
   "cell_type": "code",
   "execution_count": 27,
   "id": "0a98d4ed-acba-457f-870c-a1cd52325b43",
   "metadata": {},
   "outputs": [
    {
     "name": "stdout",
     "output_type": "stream",
     "text": [
      "09-02-2025\n"
     ]
    }
   ],
   "source": [
    "print('09', '02', '2025', sep='-')"
   ]
  },
  {
   "cell_type": "markdown",
   "id": "c00d50ca-3628-46d3-97ac-ec551a86502f",
   "metadata": {},
   "source": [
    "## Using f-string"
   ]
  },
  {
   "cell_type": "code",
   "execution_count": 28,
   "id": "e9c10016-f097-45af-bfbd-af02ee35a976",
   "metadata": {},
   "outputs": [
    {
     "name": "stdout",
     "output_type": "stream",
     "text": [
      "Hello, My name is Tushar and I'm 23 years old.\n"
     ]
    }
   ],
   "source": [
    "name = 'Tushar'\n",
    "age = 23\n",
    "print(f\"Hello, My name is {name} and I'm {age} years old.\")"
   ]
  },
  {
   "cell_type": "markdown",
   "id": "0a32eccd-b3fa-4e3b-976f-a62845589462",
   "metadata": {},
   "source": [
    "## Using the % Operator\n",
    "\n",
    "\n",
    "\n"
   ]
  },
  {
   "cell_type": "code",
   "execution_count": null,
   "id": "be6a6417-95c5-4ddd-a92e-f73b8fc5368b",
   "metadata": {},
   "outputs": [
    {
     "name": "stdout",
     "output_type": "stream",
     "text": [
      "The sum is 17\n"
     ]
    }
   ],
   "source": [
    "\n",
    "num = int(input(\"Enter a value: \"))\n",
    "\n",
    "add = num + 5\n",
    "\n",
    "\n",
    "print(\"The sum is %d\" %add)"
   ]
  },
  {
   "cell_type": "markdown",
   "id": "47b8d6c3-f3c5-41b1-a45d-0d526500889e",
   "metadata": {},
   "source": [
    "## Take Multiple Input in Python\n"
   ]
  },
  {
   "cell_type": "code",
   "execution_count": 36,
   "id": "485b9e12-ada1-4bdf-b365-94285621f99d",
   "metadata": {},
   "outputs": [
    {
     "ename": "ValueError",
     "evalue": "not enough values to unpack (expected 2, got 1)",
     "output_type": "error",
     "traceback": [
      "\u001b[31m---------------------------------------------------------------------------\u001b[39m",
      "\u001b[31mValueError\u001b[39m                                Traceback (most recent call last)",
      "\u001b[36mCell\u001b[39m\u001b[36m \u001b[39m\u001b[32mIn[36]\u001b[39m\u001b[32m, line 1\u001b[39m\n\u001b[32m----> \u001b[39m\u001b[32m1\u001b[39m x, y = \u001b[38;5;28minput\u001b[39m(\u001b[33m\"\u001b[39m\u001b[33mEnter two values: \u001b[39m\u001b[33m\"\u001b[39m).split()\n\u001b[32m      2\u001b[39m \u001b[38;5;28mprint\u001b[39m(\u001b[33m\"\u001b[39m\u001b[33mNumber of boys: \u001b[39m\u001b[33m\"\u001b[39m, x)\n\u001b[32m      3\u001b[39m \u001b[38;5;28mprint\u001b[39m(\u001b[33m\"\u001b[39m\u001b[33mNumber of girls: \u001b[39m\u001b[33m\"\u001b[39m, y)\n",
      "\u001b[31mValueError\u001b[39m: not enough values to unpack (expected 2, got 1)"
     ]
    }
   ],
   "source": [
    "\n",
    "x, y = input(\"Enter two values: \").split()\n",
    "print(\"Number of boys: \", x)\n",
    "print(\"Number of girls: \", y)"
   ]
  },
  {
   "cell_type": "code",
   "execution_count": null,
   "id": "e55eaa3d-7a77-4a17-8eea-16cd7513f989",
   "metadata": {},
   "outputs": [
    {
     "name": "stdout",
     "output_type": "stream",
     "text": [
      "Enter three values:  60  30  30\n"
     ]
    },
    {
     "name": "stdout",
     "output_type": "stream",
     "text": [
      "Total number of students:  60\n",
      "Number of boys is :  30\n",
      "Number of girls is :  30\n"
     ]
    }
   ],
   "source": [
    "\n",
    "x, y, z = input(\"Enter three values: \").split()\n",
    "print(\"Total number of students: \", x)\n",
    "print(\"Number of boys is : \", y)\n",
    "print(\"Number of girls is : \", z)"
   ]
  },
  {
   "cell_type": "markdown",
   "id": "562cb2f6-0f5a-46c2-bc9b-242d04ce0635",
   "metadata": {},
   "source": [
    "## Take Conditional Input from user in Python"
   ]
  },
  {
   "cell_type": "code",
   "execution_count": null,
   "id": "137b4f41-3b91-4d73-b94a-27f6336e999b",
   "metadata": {},
   "outputs": [
    {
     "name": "stdout",
     "output_type": "stream",
     "text": [
      "Enter your age:  66\n"
     ]
    },
    {
     "name": "stdout",
     "output_type": "stream",
     "text": [
      "You are a senior citizen.\n"
     ]
    }
   ],
   "source": [
    "\n",
    "age_input = input(\"Enter your age: \")\n",
    "\n",
    "age = int(age_input)\n",
    "\n",
    "\n",
    "if age < 0:\n",
    "    print(\"Please enter a valid age.\")\n",
    "elif age < 18:\n",
    "    print(\"You are a minor.\")\n",
    "elif age >= 18 and age < 65:\n",
    "    print(\"You are an adult.\")\n",
    "else:\n",
    "    print(\"You are a senior citizen.\")"
   ]
  },
  {
   "cell_type": "markdown",
   "id": "bfb31b81-0cac-4986-83b9-f128c78442b2",
   "metadata": {},
   "source": [
    "## Taking input in Python\n"
   ]
  },
  {
   "cell_type": "code",
   "execution_count": null,
   "id": "72e9da54-e10b-4884-b4b0-668d1f38a770",
   "metadata": {},
   "outputs": [
    {
     "name": "stdout",
     "output_type": "stream",
     "text": [
      "Enter your name:  MDL\n"
     ]
    },
    {
     "name": "stdout",
     "output_type": "stream",
     "text": [
      "Hello, MDL ! Welcome!\n"
     ]
    }
   ],
   "source": [
    "name = input(\"Enter your name: \")\n",
    "print(\"Hello,\", name, \"! Welcome!\")"
   ]
  },
  {
   "cell_type": "markdown",
   "id": "323dfa02-afb3-4a7a-ab6e-2947e8912a53",
   "metadata": {},
   "source": [
    "## How to Change the Type of Input in Python"
   ]
  },
  {
   "cell_type": "code",
   "execution_count": null,
   "id": "b54c664a-7d41-4e04-8af6-0c9b7cd09e44",
   "metadata": {},
   "outputs": [
    {
     "name": "stdout",
     "output_type": "stream",
     "text": [
      "What color is rose?:  pink\n"
     ]
    },
    {
     "name": "stdout",
     "output_type": "stream",
     "text": [
      "pink\n"
     ]
    }
   ],
   "source": [
    "\n",
    "color = input(\"What color is rose?: \")\n",
    "print(color)"
   ]
  },
  {
   "cell_type": "code",
   "execution_count": null,
   "id": "389e2786-2d6d-4def-8e66-5b7239cbf61e",
   "metadata": {},
   "outputs": [
    {
     "name": "stdout",
     "output_type": "stream",
     "text": [
      "How many roses?:  5\n"
     ]
    },
    {
     "name": "stdout",
     "output_type": "stream",
     "text": [
      "5\n"
     ]
    }
   ],
   "source": [
    "\n",
    "n = int(input(\"How many roses?: \"))\n",
    "print(n)"
   ]
  },
  {
   "cell_type": "code",
   "execution_count": null,
   "id": "fcfd4220-378a-4312-a4cf-f4a1761eca3c",
   "metadata": {},
   "outputs": [
    {
     "name": "stdout",
     "output_type": "stream",
     "text": [
      "Price of each rose?:  23.50\n"
     ]
    },
    {
     "name": "stdout",
     "output_type": "stream",
     "text": [
      "23.5\n"
     ]
    }
   ],
   "source": [
    "\n",
    "price = float(input(\"Price of each rose?: \"))\n",
    "print(price)"
   ]
  },
  {
   "cell_type": "markdown",
   "id": "fd35843c-13cd-40e8-b3ce-c5f136ea5833",
   "metadata": {},
   "source": [
    "## Find DataType of Input in Python"
   ]
  },
  {
   "cell_type": "code",
   "execution_count": 32,
   "id": "132e48ef-eccb-40b5-9846-8c33bd4cded1",
   "metadata": {},
   "outputs": [
    {
     "name": "stdout",
     "output_type": "stream",
     "text": [
      "<class 'str'>\n",
      "<class 'int'>\n",
      "<class 'float'>\n",
      "<class 'tuple'>\n",
      "<class 'list'>\n",
      "<class 'dict'>\n"
     ]
    }
   ],
   "source": [
    "a = \"Hello World\"\n",
    "b = 10\n",
    "c = 11.22\n",
    "d = (\"Computers\", \"for\", \"students\")\n",
    "e = [\"Computers\", \"for\", \"students\"]\n",
    "f = {\"Computers\": 1, \"for\":2, \"students\":3}\n",
    "\n",
    "\n",
    "print(type(a))\n",
    "print(type(b))\n",
    "print(type(c))\n",
    "print(type(d))\n",
    "print(type(e))\n",
    "print(type(f))"
   ]
  },
  {
   "cell_type": "code",
   "execution_count": null,
   "id": "76c23518-2bde-4f36-bb60-94d6c132186e",
   "metadata": {},
   "outputs": [],
   "source": []
  }
 ],
 "metadata": {
  "kernelspec": {
   "display_name": "Python 3",
   "language": "python",
   "name": "python3"
  },
  "language_info": {
   "codemirror_mode": {
    "name": "ipython",
    "version": 3
   },
   "file_extension": ".py",
   "mimetype": "text/x-python",
   "name": "python",
   "nbconvert_exporter": "python",
   "pygments_lexer": "ipython3",
   "version": "3.11.9"
  }
 },
 "nbformat": 4,
 "nbformat_minor": 5
}
